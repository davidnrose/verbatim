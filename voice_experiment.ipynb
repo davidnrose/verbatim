{
 "cells": [
  {
   "cell_type": "code",
   "execution_count": 6,
   "id": "4ab8ae7f-f98a-48fc-bdd6-2231bdeb7f1c",
   "metadata": {},
   "outputs": [
    {
     "name": "stdout",
     "output_type": "stream",
     "text": [
      "Requirement already satisfied: ipykernel in c:\\users\\mosel\\appdata\\local\\programs\\python\\python311\\lib\\site-packages (6.29.5)\n",
      "Requirement already satisfied: comm>=0.1.1 in c:\\users\\mosel\\appdata\\local\\programs\\python\\python311\\lib\\site-packages (from ipykernel) (0.2.2)\n",
      "Requirement already satisfied: debugpy>=1.6.5 in c:\\users\\mosel\\appdata\\local\\programs\\python\\python311\\lib\\site-packages (from ipykernel) (1.8.5)\n",
      "Requirement already satisfied: ipython>=7.23.1 in c:\\users\\mosel\\appdata\\local\\programs\\python\\python311\\lib\\site-packages (from ipykernel) (8.26.0)\n",
      "Requirement already satisfied: jupyter-client>=6.1.12 in c:\\users\\mosel\\appdata\\local\\programs\\python\\python311\\lib\\site-packages (from ipykernel) (8.6.2)\n",
      "Requirement already satisfied: jupyter-core!=5.0.*,>=4.12 in c:\\users\\mosel\\appdata\\local\\programs\\python\\python311\\lib\\site-packages (from ipykernel) (5.7.2)\n",
      "Requirement already satisfied: matplotlib-inline>=0.1 in c:\\users\\mosel\\appdata\\local\\programs\\python\\python311\\lib\\site-packages (from ipykernel) (0.1.7)\n",
      "Requirement already satisfied: nest-asyncio in c:\\users\\mosel\\appdata\\local\\programs\\python\\python311\\lib\\site-packages (from ipykernel) (1.6.0)\n",
      "Requirement already satisfied: packaging in c:\\users\\mosel\\appdata\\local\\programs\\python\\python311\\lib\\site-packages (from ipykernel) (24.1)\n",
      "Requirement already satisfied: psutil in c:\\users\\mosel\\appdata\\local\\programs\\python\\python311\\lib\\site-packages (from ipykernel) (6.0.0)\n",
      "Requirement already satisfied: pyzmq>=24 in c:\\users\\mosel\\appdata\\local\\programs\\python\\python311\\lib\\site-packages (from ipykernel) (26.1.0)\n",
      "Requirement already satisfied: tornado>=6.1 in c:\\users\\mosel\\appdata\\local\\programs\\python\\python311\\lib\\site-packages (from ipykernel) (6.4.1)\n",
      "Requirement already satisfied: traitlets>=5.4.0 in c:\\users\\mosel\\appdata\\local\\programs\\python\\python311\\lib\\site-packages (from ipykernel) (5.14.3)\n",
      "Requirement already satisfied: decorator in c:\\users\\mosel\\appdata\\local\\programs\\python\\python311\\lib\\site-packages (from ipython>=7.23.1->ipykernel) (5.1.1)\n",
      "Requirement already satisfied: jedi>=0.16 in c:\\users\\mosel\\appdata\\local\\programs\\python\\python311\\lib\\site-packages (from ipython>=7.23.1->ipykernel) (0.19.1)\n",
      "Requirement already satisfied: prompt-toolkit<3.1.0,>=3.0.41 in c:\\users\\mosel\\appdata\\local\\programs\\python\\python311\\lib\\site-packages (from ipython>=7.23.1->ipykernel) (3.0.47)\n",
      "Requirement already satisfied: pygments>=2.4.0 in c:\\users\\mosel\\appdata\\local\\programs\\python\\python311\\lib\\site-packages (from ipython>=7.23.1->ipykernel) (2.18.0)\n",
      "Requirement already satisfied: stack-data in c:\\users\\mosel\\appdata\\local\\programs\\python\\python311\\lib\\site-packages (from ipython>=7.23.1->ipykernel) (0.6.3)\n",
      "Requirement already satisfied: typing-extensions>=4.6 in c:\\users\\mosel\\appdata\\local\\programs\\python\\python311\\lib\\site-packages (from ipython>=7.23.1->ipykernel) (4.12.2)\n",
      "Requirement already satisfied: colorama in c:\\users\\mosel\\appdata\\local\\programs\\python\\python311\\lib\\site-packages (from ipython>=7.23.1->ipykernel) (0.4.6)\n",
      "Requirement already satisfied: python-dateutil>=2.8.2 in c:\\users\\mosel\\appdata\\local\\programs\\python\\python311\\lib\\site-packages (from jupyter-client>=6.1.12->ipykernel) (2.9.0.post0)\n",
      "Requirement already satisfied: platformdirs>=2.5 in c:\\users\\mosel\\appdata\\local\\programs\\python\\python311\\lib\\site-packages (from jupyter-core!=5.0.*,>=4.12->ipykernel) (4.2.2)\n",
      "Requirement already satisfied: pywin32>=300 in c:\\users\\mosel\\appdata\\local\\programs\\python\\python311\\lib\\site-packages (from jupyter-core!=5.0.*,>=4.12->ipykernel) (306)\n",
      "Requirement already satisfied: parso<0.9.0,>=0.8.3 in c:\\users\\mosel\\appdata\\local\\programs\\python\\python311\\lib\\site-packages (from jedi>=0.16->ipython>=7.23.1->ipykernel) (0.8.4)\n",
      "Requirement already satisfied: wcwidth in c:\\users\\mosel\\appdata\\local\\programs\\python\\python311\\lib\\site-packages (from prompt-toolkit<3.1.0,>=3.0.41->ipython>=7.23.1->ipykernel) (0.2.13)\n",
      "Requirement already satisfied: six>=1.5 in c:\\users\\mosel\\appdata\\local\\programs\\python\\python311\\lib\\site-packages (from python-dateutil>=2.8.2->jupyter-client>=6.1.12->ipykernel) (1.16.0)\n",
      "Requirement already satisfied: executing>=1.2.0 in c:\\users\\mosel\\appdata\\local\\programs\\python\\python311\\lib\\site-packages (from stack-data->ipython>=7.23.1->ipykernel) (2.0.1)\n",
      "Requirement already satisfied: asttokens>=2.1.0 in c:\\users\\mosel\\appdata\\local\\programs\\python\\python311\\lib\\site-packages (from stack-data->ipython>=7.23.1->ipykernel) (2.4.1)\n",
      "Requirement already satisfied: pure-eval in c:\\users\\mosel\\appdata\\local\\programs\\python\\python311\\lib\\site-packages (from stack-data->ipython>=7.23.1->ipykernel) (0.2.3)\n",
      "Note: you may need to restart the kernel to use updated packages.\n"
     ]
    }
   ],
   "source": [
    "!pip install --user ipykernel"
   ]
  },
  {
   "cell_type": "code",
   "execution_count": 8,
   "id": "ab2f5caf-3bc8-4f87-8bda-a157a58ceae8",
   "metadata": {},
   "outputs": [
    {
     "name": "stdout",
     "output_type": "stream",
     "text": [
      "Installed kernelspec venv in C:\\Users\\mosel\\AppData\\Roaming\\jupyter\\kernels\\venv\n"
     ]
    }
   ],
   "source": [
    "!python -m ipykernel install --user --name=venv"
   ]
  },
  {
   "cell_type": "code",
   "execution_count": 10,
   "id": "2fd8003d-ac02-41ac-b95d-32f5f93b5c6b",
   "metadata": {},
   "outputs": [
    {
     "ename": "ModuleNotFoundError",
     "evalue": "No module named 'ChatTTS'",
     "output_type": "error",
     "traceback": [
      "\u001b[1;31m---------------------------------------------------------------------------\u001b[0m",
      "\u001b[1;31mModuleNotFoundError\u001b[0m                       Traceback (most recent call last)",
      "Cell \u001b[1;32mIn[10], line 1\u001b[0m\n\u001b[1;32m----> 1\u001b[0m \u001b[38;5;28;01mimport\u001b[39;00m \u001b[38;5;21;01mChatTTS\u001b[39;00m\n",
      "\u001b[1;31mModuleNotFoundError\u001b[0m: No module named 'ChatTTS'"
     ]
    }
   ],
   "source": [
    "!pip install Cha"
   ]
  },
  {
   "cell_type": "markdown",
   "id": "18e7e9f4-cbb4-4b18-a5be-8553218f49a4",
   "metadata": {},
   "source": [
    "## Parler-TTS"
   ]
  },
  {
   "cell_type": "code",
   "execution_count": 3,
   "id": "776ba6fe-33d5-4d14-9374-7539a3af7528",
   "metadata": {},
   "outputs": [
    {
     "name": "stdout",
     "output_type": "stream",
     "text": [
      "Collecting git+https://github.com/huggingface/parler-tts.git\n",
      "  Cloning https://github.com/huggingface/parler-tts.git to c:\\users\\mosel\\appdata\\local\\temp\\pip-req-build-b13q8ptd\n",
      "  Resolved https://github.com/huggingface/parler-tts.git to commit 650288aae1315bdb852d65b0fa41b6504948e22d\n",
      "  Installing build dependencies: started\n",
      "  Installing build dependencies: finished with status 'done'\n",
      "  Getting requirements to build wheel: started\n",
      "  Getting requirements to build wheel: finished with status 'done'\n",
      "  Preparing metadata (pyproject.toml): started\n",
      "  Preparing metadata (pyproject.toml): finished with status 'done'\n",
      "Collecting descript-audiotools@ git+https://github.com/descriptinc/audiotools (from parler_tts==0.2.1)\n",
      "  Cloning https://github.com/descriptinc/audiotools to c:\\users\\mosel\\appdata\\local\\temp\\pip-install-oe89olk8\\descript-audiotools_37e359562a33449c9be6f6fea0bd4f11\n",
      "  Resolved https://github.com/descriptinc/audiotools to commit 348ebf2034ce24e2a91a553e3171cb00c0c71678\n",
      "  Installing build dependencies: started\n",
      "  Installing build dependencies: finished with status 'done'\n",
      "  Getting requirements to build wheel: started\n",
      "  Getting requirements to build wheel: finished with status 'done'\n",
      "  Preparing metadata (pyproject.toml): started\n",
      "  Preparing metadata (pyproject.toml): finished with status 'done'\n",
      "Requirement already satisfied: transformers<=4.46.1,>=4.46.1 in c:\\users\\mosel\\appdata\\local\\programs\\python\\python311\\lib\\site-packages (from parler_tts==0.2.1) (4.46.1)\n",
      "Requirement already satisfied: torch in c:\\users\\mosel\\appdata\\local\\programs\\python\\python311\\lib\\site-packages (from parler_tts==0.2.1) (2.5.1)\n",
      "Requirement already satisfied: sentencepiece in c:\\users\\mosel\\appdata\\local\\programs\\python\\python311\\lib\\site-packages (from parler_tts==0.2.1) (0.2.0)\n",
      "Requirement already satisfied: descript-audio-codec in c:\\users\\mosel\\appdata\\local\\programs\\python\\python311\\lib\\site-packages (from parler_tts==0.2.1) (1.0.0)\n",
      "Requirement already satisfied: protobuf>=4.0.0 in c:\\users\\mosel\\appdata\\local\\programs\\python\\python311\\lib\\site-packages (from parler_tts==0.2.1) (4.25.5)\n",
      "Requirement already satisfied: filelock in c:\\users\\mosel\\appdata\\local\\programs\\python\\python311\\lib\\site-packages (from transformers<=4.46.1,>=4.46.1->parler_tts==0.2.1) (3.16.1)\n",
      "Requirement already satisfied: huggingface-hub<1.0,>=0.23.2 in c:\\users\\mosel\\appdata\\local\\programs\\python\\python311\\lib\\site-packages (from transformers<=4.46.1,>=4.46.1->parler_tts==0.2.1) (0.26.2)\n",
      "Requirement already satisfied: numpy>=1.17 in c:\\users\\mosel\\appdata\\local\\programs\\python\\python311\\lib\\site-packages (from transformers<=4.46.1,>=4.46.1->parler_tts==0.2.1) (1.26.4)\n",
      "Requirement already satisfied: packaging>=20.0 in c:\\users\\mosel\\appdata\\local\\programs\\python\\python311\\lib\\site-packages (from transformers<=4.46.1,>=4.46.1->parler_tts==0.2.1) (24.1)\n",
      "Requirement already satisfied: pyyaml>=5.1 in c:\\users\\mosel\\appdata\\local\\programs\\python\\python311\\lib\\site-packages (from transformers<=4.46.1,>=4.46.1->parler_tts==0.2.1) (6.0.2)\n",
      "Requirement already satisfied: regex!=2019.12.17 in c:\\users\\mosel\\appdata\\local\\programs\\python\\python311\\lib\\site-packages (from transformers<=4.46.1,>=4.46.1->parler_tts==0.2.1) (2024.9.11)\n",
      "Requirement already satisfied: requests in c:\\users\\mosel\\appdata\\local\\programs\\python\\python311\\lib\\site-packages (from transformers<=4.46.1,>=4.46.1->parler_tts==0.2.1) (2.32.3)\n",
      "Requirement already satisfied: safetensors>=0.4.1 in c:\\users\\mosel\\appdata\\local\\programs\\python\\python311\\lib\\site-packages (from transformers<=4.46.1,>=4.46.1->parler_tts==0.2.1) (0.4.5)\n",
      "Requirement already satisfied: tokenizers<0.21,>=0.20 in c:\\users\\mosel\\appdata\\local\\programs\\python\\python311\\lib\\site-packages (from transformers<=4.46.1,>=4.46.1->parler_tts==0.2.1) (0.20.1)\n",
      "Requirement already satisfied: tqdm>=4.27 in c:\\users\\mosel\\appdata\\local\\programs\\python\\python311\\lib\\site-packages (from transformers<=4.46.1,>=4.46.1->parler_tts==0.2.1) (4.66.5)\n",
      "Requirement already satisfied: argbind>=0.3.7 in c:\\users\\mosel\\appdata\\local\\programs\\python\\python311\\lib\\site-packages (from descript-audio-codec->parler_tts==0.2.1) (0.3.9)\n",
      "Requirement already satisfied: einops in c:\\users\\mosel\\appdata\\local\\programs\\python\\python311\\lib\\site-packages (from descript-audio-codec->parler_tts==0.2.1) (0.8.0)\n",
      "Requirement already satisfied: torchaudio in c:\\users\\mosel\\appdata\\local\\programs\\python\\python311\\lib\\site-packages (from descript-audio-codec->parler_tts==0.2.1) (2.5.1)\n",
      "Requirement already satisfied: soundfile in c:\\users\\mosel\\appdata\\local\\programs\\python\\python311\\lib\\site-packages (from descript-audiotools@ git+https://github.com/descriptinc/audiotools->parler_tts==0.2.1) (0.12.1)\n",
      "Requirement already satisfied: pyloudnorm in c:\\users\\mosel\\appdata\\local\\programs\\python\\python311\\lib\\site-packages (from descript-audiotools@ git+https://github.com/descriptinc/audiotools->parler_tts==0.2.1) (0.1.1)\n",
      "Requirement already satisfied: importlib-resources in c:\\users\\mosel\\appdata\\local\\programs\\python\\python311\\lib\\site-packages (from descript-audiotools@ git+https://github.com/descriptinc/audiotools->parler_tts==0.2.1) (6.4.5)\n",
      "Requirement already satisfied: scipy in c:\\users\\mosel\\appdata\\local\\programs\\python\\python311\\lib\\site-packages (from descript-audiotools@ git+https://github.com/descriptinc/audiotools->parler_tts==0.2.1) (1.14.1)\n",
      "Requirement already satisfied: julius in c:\\users\\mosel\\appdata\\local\\programs\\python\\python311\\lib\\site-packages (from descript-audiotools@ git+https://github.com/descriptinc/audiotools->parler_tts==0.2.1) (0.2.7)\n",
      "Requirement already satisfied: ffmpy in c:\\users\\mosel\\appdata\\local\\programs\\python\\python311\\lib\\site-packages (from descript-audiotools@ git+https://github.com/descriptinc/audiotools->parler_tts==0.2.1) (0.4.0)\n",
      "Requirement already satisfied: ipython in c:\\users\\mosel\\appdata\\local\\programs\\python\\python311\\lib\\site-packages (from descript-audiotools@ git+https://github.com/descriptinc/audiotools->parler_tts==0.2.1) (8.26.0)\n",
      "Requirement already satisfied: rich in c:\\users\\mosel\\appdata\\local\\programs\\python\\python311\\lib\\site-packages (from descript-audiotools@ git+https://github.com/descriptinc/audiotools->parler_tts==0.2.1) (13.9.4)\n",
      "Requirement already satisfied: matplotlib in c:\\users\\mosel\\appdata\\local\\programs\\python\\python311\\lib\\site-packages (from descript-audiotools@ git+https://github.com/descriptinc/audiotools->parler_tts==0.2.1) (3.9.2)\n",
      "Requirement already satisfied: librosa in c:\\users\\mosel\\appdata\\local\\programs\\python\\python311\\lib\\site-packages (from descript-audiotools@ git+https://github.com/descriptinc/audiotools->parler_tts==0.2.1) (0.10.2.post1)\n",
      "Requirement already satisfied: pystoi in c:\\users\\mosel\\appdata\\local\\programs\\python\\python311\\lib\\site-packages (from descript-audiotools@ git+https://github.com/descriptinc/audiotools->parler_tts==0.2.1) (0.4.1)\n",
      "Requirement already satisfied: torch-stoi in c:\\users\\mosel\\appdata\\local\\programs\\python\\python311\\lib\\site-packages (from descript-audiotools@ git+https://github.com/descriptinc/audiotools->parler_tts==0.2.1) (0.2.3)\n",
      "Requirement already satisfied: flatten-dict in c:\\users\\mosel\\appdata\\local\\programs\\python\\python311\\lib\\site-packages (from descript-audiotools@ git+https://github.com/descriptinc/audiotools->parler_tts==0.2.1) (0.4.2)\n",
      "Requirement already satisfied: markdown2 in c:\\users\\mosel\\appdata\\local\\programs\\python\\python311\\lib\\site-packages (from descript-audiotools@ git+https://github.com/descriptinc/audiotools->parler_tts==0.2.1) (2.5.1)\n",
      "Requirement already satisfied: randomname in c:\\users\\mosel\\appdata\\local\\programs\\python\\python311\\lib\\site-packages (from descript-audiotools@ git+https://github.com/descriptinc/audiotools->parler_tts==0.2.1) (0.2.1)\n",
      "Requirement already satisfied: tensorboard in c:\\users\\mosel\\appdata\\local\\programs\\python\\python311\\lib\\site-packages (from descript-audiotools@ git+https://github.com/descriptinc/audiotools->parler_tts==0.2.1) (2.18.0)\n",
      "Requirement already satisfied: typing-extensions>=4.8.0 in c:\\users\\mosel\\appdata\\local\\programs\\python\\python311\\lib\\site-packages (from torch->parler_tts==0.2.1) (4.12.2)\n",
      "Requirement already satisfied: networkx in c:\\users\\mosel\\appdata\\local\\programs\\python\\python311\\lib\\site-packages (from torch->parler_tts==0.2.1) (3.4.2)\n",
      "Requirement already satisfied: jinja2 in c:\\users\\mosel\\appdata\\local\\programs\\python\\python311\\lib\\site-packages (from torch->parler_tts==0.2.1) (3.1.4)\n",
      "Requirement already satisfied: fsspec in c:\\users\\mosel\\appdata\\local\\programs\\python\\python311\\lib\\site-packages (from torch->parler_tts==0.2.1) (2024.10.0)\n",
      "Requirement already satisfied: sympy==1.13.1 in c:\\users\\mosel\\appdata\\local\\programs\\python\\python311\\lib\\site-packages (from torch->parler_tts==0.2.1) (1.13.1)\n",
      "Requirement already satisfied: mpmath<1.4,>=1.1.0 in c:\\users\\mosel\\appdata\\local\\programs\\python\\python311\\lib\\site-packages (from sympy==1.13.1->torch->parler_tts==0.2.1) (1.3.0)\n",
      "Requirement already satisfied: docstring-parser in c:\\users\\mosel\\appdata\\local\\programs\\python\\python311\\lib\\site-packages (from argbind>=0.3.7->descript-audio-codec->parler_tts==0.2.1) (0.16)\n",
      "Requirement already satisfied: colorama in c:\\users\\mosel\\appdata\\local\\programs\\python\\python311\\lib\\site-packages (from tqdm>=4.27->transformers<=4.46.1,>=4.46.1->parler_tts==0.2.1) (0.4.6)\n",
      "Requirement already satisfied: six<2.0,>=1.12 in c:\\users\\mosel\\appdata\\local\\programs\\python\\python311\\lib\\site-packages (from flatten-dict->descript-audiotools@ git+https://github.com/descriptinc/audiotools->parler_tts==0.2.1) (1.16.0)\n",
      "Requirement already satisfied: decorator in c:\\users\\mosel\\appdata\\local\\programs\\python\\python311\\lib\\site-packages (from ipython->descript-audiotools@ git+https://github.com/descriptinc/audiotools->parler_tts==0.2.1) (5.1.1)\n",
      "Requirement already satisfied: jedi>=0.16 in c:\\users\\mosel\\appdata\\local\\programs\\python\\python311\\lib\\site-packages (from ipython->descript-audiotools@ git+https://github.com/descriptinc/audiotools->parler_tts==0.2.1) (0.19.1)\n",
      "Requirement already satisfied: matplotlib-inline in c:\\users\\mosel\\appdata\\local\\programs\\python\\python311\\lib\\site-packages (from ipython->descript-audiotools@ git+https://github.com/descriptinc/audiotools->parler_tts==0.2.1) (0.1.7)\n",
      "Requirement already satisfied: prompt-toolkit<3.1.0,>=3.0.41 in c:\\users\\mosel\\appdata\\local\\programs\\python\\python311\\lib\\site-packages (from ipython->descript-audiotools@ git+https://github.com/descriptinc/audiotools->parler_tts==0.2.1) (3.0.47)\n",
      "Requirement already satisfied: pygments>=2.4.0 in c:\\users\\mosel\\appdata\\local\\programs\\python\\python311\\lib\\site-packages (from ipython->descript-audiotools@ git+https://github.com/descriptinc/audiotools->parler_tts==0.2.1) (2.18.0)\n",
      "Requirement already satisfied: stack-data in c:\\users\\mosel\\appdata\\local\\programs\\python\\python311\\lib\\site-packages (from ipython->descript-audiotools@ git+https://github.com/descriptinc/audiotools->parler_tts==0.2.1) (0.6.3)\n",
      "Requirement already satisfied: traitlets>=5.13.0 in c:\\users\\mosel\\appdata\\local\\programs\\python\\python311\\lib\\site-packages (from ipython->descript-audiotools@ git+https://github.com/descriptinc/audiotools->parler_tts==0.2.1) (5.14.3)\n",
      "Requirement already satisfied: MarkupSafe>=2.0 in c:\\users\\mosel\\appdata\\local\\programs\\python\\python311\\lib\\site-packages (from jinja2->torch->parler_tts==0.2.1) (2.1.5)\n",
      "Requirement already satisfied: audioread>=2.1.9 in c:\\users\\mosel\\appdata\\local\\programs\\python\\python311\\lib\\site-packages (from librosa->descript-audiotools@ git+https://github.com/descriptinc/audiotools->parler_tts==0.2.1) (3.0.1)\n",
      "Requirement already satisfied: scikit-learn>=0.20.0 in c:\\users\\mosel\\appdata\\local\\programs\\python\\python311\\lib\\site-packages (from librosa->descript-audiotools@ git+https://github.com/descriptinc/audiotools->parler_tts==0.2.1) (1.5.2)\n",
      "Requirement already satisfied: joblib>=0.14 in c:\\users\\mosel\\appdata\\local\\programs\\python\\python311\\lib\\site-packages (from librosa->descript-audiotools@ git+https://github.com/descriptinc/audiotools->parler_tts==0.2.1) (1.4.2)\n",
      "Requirement already satisfied: numba>=0.51.0 in c:\\users\\mosel\\appdata\\local\\programs\\python\\python311\\lib\\site-packages (from librosa->descript-audiotools@ git+https://github.com/descriptinc/audiotools->parler_tts==0.2.1) (0.60.0)\n",
      "Requirement already satisfied: pooch>=1.1 in c:\\users\\mosel\\appdata\\local\\programs\\python\\python311\\lib\\site-packages (from librosa->descript-audiotools@ git+https://github.com/descriptinc/audiotools->parler_tts==0.2.1) (1.8.2)\n",
      "Requirement already satisfied: soxr>=0.3.2 in c:\\users\\mosel\\appdata\\local\\programs\\python\\python311\\lib\\site-packages (from librosa->descript-audiotools@ git+https://github.com/descriptinc/audiotools->parler_tts==0.2.1) (0.5.0.post1)\n",
      "Requirement already satisfied: lazy-loader>=0.1 in c:\\users\\mosel\\appdata\\local\\programs\\python\\python311\\lib\\site-packages (from librosa->descript-audiotools@ git+https://github.com/descriptinc/audiotools->parler_tts==0.2.1) (0.4)\n",
      "Requirement already satisfied: msgpack>=1.0 in c:\\users\\mosel\\appdata\\local\\programs\\python\\python311\\lib\\site-packages (from librosa->descript-audiotools@ git+https://github.com/descriptinc/audiotools->parler_tts==0.2.1) (1.1.0)\n",
      "Requirement already satisfied: cffi>=1.0 in c:\\users\\mosel\\appdata\\local\\programs\\python\\python311\\lib\\site-packages (from soundfile->descript-audiotools@ git+https://github.com/descriptinc/audiotools->parler_tts==0.2.1) (1.17.0)\n",
      "Requirement already satisfied: contourpy>=1.0.1 in c:\\users\\mosel\\appdata\\local\\programs\\python\\python311\\lib\\site-packages (from matplotlib->descript-audiotools@ git+https://github.com/descriptinc/audiotools->parler_tts==0.2.1) (1.3.0)\n",
      "Requirement already satisfied: cycler>=0.10 in c:\\users\\mosel\\appdata\\local\\programs\\python\\python311\\lib\\site-packages (from matplotlib->descript-audiotools@ git+https://github.com/descriptinc/audiotools->parler_tts==0.2.1) (0.12.1)\n",
      "Requirement already satisfied: fonttools>=4.22.0 in c:\\users\\mosel\\appdata\\local\\programs\\python\\python311\\lib\\site-packages (from matplotlib->descript-audiotools@ git+https://github.com/descriptinc/audiotools->parler_tts==0.2.1) (4.53.1)\n",
      "Requirement already satisfied: kiwisolver>=1.3.1 in c:\\users\\mosel\\appdata\\local\\programs\\python\\python311\\lib\\site-packages (from matplotlib->descript-audiotools@ git+https://github.com/descriptinc/audiotools->parler_tts==0.2.1) (1.4.7)\n",
      "Requirement already satisfied: pillow>=8 in c:\\users\\mosel\\appdata\\local\\programs\\python\\python311\\lib\\site-packages (from matplotlib->descript-audiotools@ git+https://github.com/descriptinc/audiotools->parler_tts==0.2.1) (10.4.0)\n",
      "Requirement already satisfied: pyparsing>=2.3.1 in c:\\users\\mosel\\appdata\\local\\programs\\python\\python311\\lib\\site-packages (from matplotlib->descript-audiotools@ git+https://github.com/descriptinc/audiotools->parler_tts==0.2.1) (3.1.4)\n",
      "Requirement already satisfied: python-dateutil>=2.7 in c:\\users\\mosel\\appdata\\local\\programs\\python\\python311\\lib\\site-packages (from matplotlib->descript-audiotools@ git+https://github.com/descriptinc/audiotools->parler_tts==0.2.1) (2.9.0.post0)\n",
      "Requirement already satisfied: future>=0.16.0 in c:\\users\\mosel\\appdata\\local\\programs\\python\\python311\\lib\\site-packages (from pyloudnorm->descript-audiotools@ git+https://github.com/descriptinc/audiotools->parler_tts==0.2.1) (1.0.0)\n",
      "Requirement already satisfied: fire in c:\\users\\mosel\\appdata\\local\\programs\\python\\python311\\lib\\site-packages (from randomname->descript-audiotools@ git+https://github.com/descriptinc/audiotools->parler_tts==0.2.1) (0.7.0)\n",
      "Requirement already satisfied: charset-normalizer<4,>=2 in c:\\users\\mosel\\appdata\\local\\programs\\python\\python311\\lib\\site-packages (from requests->transformers<=4.46.1,>=4.46.1->parler_tts==0.2.1) (3.3.2)\n",
      "Requirement already satisfied: idna<4,>=2.5 in c:\\users\\mosel\\appdata\\local\\programs\\python\\python311\\lib\\site-packages (from requests->transformers<=4.46.1,>=4.46.1->parler_tts==0.2.1) (3.7)\n",
      "Requirement already satisfied: urllib3<3,>=1.21.1 in c:\\users\\mosel\\appdata\\local\\programs\\python\\python311\\lib\\site-packages (from requests->transformers<=4.46.1,>=4.46.1->parler_tts==0.2.1) (2.2.2)\n",
      "Requirement already satisfied: certifi>=2017.4.17 in c:\\users\\mosel\\appdata\\local\\programs\\python\\python311\\lib\\site-packages (from requests->transformers<=4.46.1,>=4.46.1->parler_tts==0.2.1) (2024.7.4)\n",
      "Requirement already satisfied: markdown-it-py>=2.2.0 in c:\\users\\mosel\\appdata\\local\\programs\\python\\python311\\lib\\site-packages (from rich->descript-audiotools@ git+https://github.com/descriptinc/audiotools->parler_tts==0.2.1) (3.0.0)\n",
      "Requirement already satisfied: absl-py>=0.4 in c:\\users\\mosel\\appdata\\local\\programs\\python\\python311\\lib\\site-packages (from tensorboard->descript-audiotools@ git+https://github.com/descriptinc/audiotools->parler_tts==0.2.1) (2.1.0)\n",
      "Requirement already satisfied: grpcio>=1.48.2 in c:\\users\\mosel\\appdata\\local\\programs\\python\\python311\\lib\\site-packages (from tensorboard->descript-audiotools@ git+https://github.com/descriptinc/audiotools->parler_tts==0.2.1) (1.67.1)\n",
      "Requirement already satisfied: markdown>=2.6.8 in c:\\users\\mosel\\appdata\\local\\programs\\python\\python311\\lib\\site-packages (from tensorboard->descript-audiotools@ git+https://github.com/descriptinc/audiotools->parler_tts==0.2.1) (3.7)\n",
      "Requirement already satisfied: setuptools>=41.0.0 in c:\\users\\mosel\\appdata\\local\\programs\\python\\python311\\lib\\site-packages (from tensorboard->descript-audiotools@ git+https://github.com/descriptinc/audiotools->parler_tts==0.2.1) (65.5.0)\n",
      "Requirement already satisfied: tensorboard-data-server<0.8.0,>=0.7.0 in c:\\users\\mosel\\appdata\\local\\programs\\python\\python311\\lib\\site-packages (from tensorboard->descript-audiotools@ git+https://github.com/descriptinc/audiotools->parler_tts==0.2.1) (0.7.2)\n",
      "Requirement already satisfied: werkzeug>=1.0.1 in c:\\users\\mosel\\appdata\\local\\programs\\python\\python311\\lib\\site-packages (from tensorboard->descript-audiotools@ git+https://github.com/descriptinc/audiotools->parler_tts==0.2.1) (3.1.2)\n",
      "Requirement already satisfied: pycparser in c:\\users\\mosel\\appdata\\local\\programs\\python\\python311\\lib\\site-packages (from cffi>=1.0->soundfile->descript-audiotools@ git+https://github.com/descriptinc/audiotools->parler_tts==0.2.1) (2.22)\n",
      "Requirement already satisfied: parso<0.9.0,>=0.8.3 in c:\\users\\mosel\\appdata\\local\\programs\\python\\python311\\lib\\site-packages (from jedi>=0.16->ipython->descript-audiotools@ git+https://github.com/descriptinc/audiotools->parler_tts==0.2.1) (0.8.4)\n",
      "Requirement already satisfied: mdurl~=0.1 in c:\\users\\mosel\\appdata\\local\\programs\\python\\python311\\lib\\site-packages (from markdown-it-py>=2.2.0->rich->descript-audiotools@ git+https://github.com/descriptinc/audiotools->parler_tts==0.2.1) (0.1.2)\n",
      "Requirement already satisfied: llvmlite<0.44,>=0.43.0dev0 in c:\\users\\mosel\\appdata\\local\\programs\\python\\python311\\lib\\site-packages (from numba>=0.51.0->librosa->descript-audiotools@ git+https://github.com/descriptinc/audiotools->parler_tts==0.2.1) (0.43.0)\n",
      "Requirement already satisfied: platformdirs>=2.5.0 in c:\\users\\mosel\\appdata\\local\\programs\\python\\python311\\lib\\site-packages (from pooch>=1.1->librosa->descript-audiotools@ git+https://github.com/descriptinc/audiotools->parler_tts==0.2.1) (4.2.2)\n",
      "Requirement already satisfied: wcwidth in c:\\users\\mosel\\appdata\\local\\programs\\python\\python311\\lib\\site-packages (from prompt-toolkit<3.1.0,>=3.0.41->ipython->descript-audiotools@ git+https://github.com/descriptinc/audiotools->parler_tts==0.2.1) (0.2.13)\n",
      "Requirement already satisfied: threadpoolctl>=3.1.0 in c:\\users\\mosel\\appdata\\local\\programs\\python\\python311\\lib\\site-packages (from scikit-learn>=0.20.0->librosa->descript-audiotools@ git+https://github.com/descriptinc/audiotools->parler_tts==0.2.1) (3.5.0)\n",
      "Requirement already satisfied: termcolor in c:\\users\\mosel\\appdata\\local\\programs\\python\\python311\\lib\\site-packages (from fire->randomname->descript-audiotools@ git+https://github.com/descriptinc/audiotools->parler_tts==0.2.1) (2.5.0)\n",
      "Requirement already satisfied: executing>=1.2.0 in c:\\users\\mosel\\appdata\\local\\programs\\python\\python311\\lib\\site-packages (from stack-data->ipython->descript-audiotools@ git+https://github.com/descriptinc/audiotools->parler_tts==0.2.1) (2.0.1)\n",
      "Requirement already satisfied: asttokens>=2.1.0 in c:\\users\\mosel\\appdata\\local\\programs\\python\\python311\\lib\\site-packages (from stack-data->ipython->descript-audiotools@ git+https://github.com/descriptinc/audiotools->parler_tts==0.2.1) (2.4.1)\n",
      "Requirement already satisfied: pure-eval in c:\\users\\mosel\\appdata\\local\\programs\\python\\python311\\lib\\site-packages (from stack-data->ipython->descript-audiotools@ git+https://github.com/descriptinc/audiotools->parler_tts==0.2.1) (0.2.3)\n"
     ]
    },
    {
     "name": "stderr",
     "output_type": "stream",
     "text": [
      "  Running command git clone --filter=blob:none --quiet https://github.com/huggingface/parler-tts.git 'C:\\Users\\mosel\\AppData\\Local\\Temp\\pip-req-build-b13q8ptd'\n",
      "  Running command git clone --filter=blob:none --quiet https://github.com/descriptinc/audiotools 'C:\\Users\\mosel\\AppData\\Local\\Temp\\pip-install-oe89olk8\\descript-audiotools_37e359562a33449c9be6f6fea0bd4f11'\n"
     ]
    },
    {
     "name": "stdout",
     "output_type": "stream",
     "text": [
      "Requirement already satisfied: IPython in c:\\users\\mosel\\appdata\\local\\programs\\python\\python311\\lib\\site-packages (8.26.0)\n",
      "Requirement already satisfied: decorator in c:\\users\\mosel\\appdata\\local\\programs\\python\\python311\\lib\\site-packages (from IPython) (5.1.1)\n",
      "Requirement already satisfied: jedi>=0.16 in c:\\users\\mosel\\appdata\\local\\programs\\python\\python311\\lib\\site-packages (from IPython) (0.19.1)\n",
      "Requirement already satisfied: matplotlib-inline in c:\\users\\mosel\\appdata\\local\\programs\\python\\python311\\lib\\site-packages (from IPython) (0.1.7)\n",
      "Requirement already satisfied: prompt-toolkit<3.1.0,>=3.0.41 in c:\\users\\mosel\\appdata\\local\\programs\\python\\python311\\lib\\site-packages (from IPython) (3.0.47)\n",
      "Requirement already satisfied: pygments>=2.4.0 in c:\\users\\mosel\\appdata\\local\\programs\\python\\python311\\lib\\site-packages (from IPython) (2.18.0)\n",
      "Requirement already satisfied: stack-data in c:\\users\\mosel\\appdata\\local\\programs\\python\\python311\\lib\\site-packages (from IPython) (0.6.3)\n",
      "Requirement already satisfied: traitlets>=5.13.0 in c:\\users\\mosel\\appdata\\local\\programs\\python\\python311\\lib\\site-packages (from IPython) (5.14.3)\n",
      "Requirement already satisfied: typing-extensions>=4.6 in c:\\users\\mosel\\appdata\\local\\programs\\python\\python311\\lib\\site-packages (from IPython) (4.12.2)\n",
      "Requirement already satisfied: colorama in c:\\users\\mosel\\appdata\\local\\programs\\python\\python311\\lib\\site-packages (from IPython) (0.4.6)\n",
      "Requirement already satisfied: parso<0.9.0,>=0.8.3 in c:\\users\\mosel\\appdata\\local\\programs\\python\\python311\\lib\\site-packages (from jedi>=0.16->IPython) (0.8.4)\n",
      "Requirement already satisfied: wcwidth in c:\\users\\mosel\\appdata\\local\\programs\\python\\python311\\lib\\site-packages (from prompt-toolkit<3.1.0,>=3.0.41->IPython) (0.2.13)\n",
      "Requirement already satisfied: executing>=1.2.0 in c:\\users\\mosel\\appdata\\local\\programs\\python\\python311\\lib\\site-packages (from stack-data->IPython) (2.0.1)\n",
      "Requirement already satisfied: asttokens>=2.1.0 in c:\\users\\mosel\\appdata\\local\\programs\\python\\python311\\lib\\site-packages (from stack-data->IPython) (2.4.1)\n",
      "Requirement already satisfied: pure-eval in c:\\users\\mosel\\appdata\\local\\programs\\python\\python311\\lib\\site-packages (from stack-data->IPython) (0.2.3)\n",
      "Requirement already satisfied: six>=1.12.0 in c:\\users\\mosel\\appdata\\local\\programs\\python\\python311\\lib\\site-packages (from asttokens>=2.1.0->stack-data->IPython) (1.16.0)\n",
      "Requirement already satisfied: transformers in c:\\users\\mosel\\appdata\\local\\programs\\python\\python311\\lib\\site-packages (4.46.1)\n",
      "Requirement already satisfied: filelock in c:\\users\\mosel\\appdata\\local\\programs\\python\\python311\\lib\\site-packages (from transformers) (3.16.1)\n",
      "Requirement already satisfied: huggingface-hub<1.0,>=0.23.2 in c:\\users\\mosel\\appdata\\local\\programs\\python\\python311\\lib\\site-packages (from transformers) (0.26.2)\n",
      "Requirement already satisfied: numpy>=1.17 in c:\\users\\mosel\\appdata\\local\\programs\\python\\python311\\lib\\site-packages (from transformers) (1.26.4)\n",
      "Requirement already satisfied: packaging>=20.0 in c:\\users\\mosel\\appdata\\local\\programs\\python\\python311\\lib\\site-packages (from transformers) (24.1)\n",
      "Requirement already satisfied: pyyaml>=5.1 in c:\\users\\mosel\\appdata\\local\\programs\\python\\python311\\lib\\site-packages (from transformers) (6.0.2)\n",
      "Requirement already satisfied: regex!=2019.12.17 in c:\\users\\mosel\\appdata\\local\\programs\\python\\python311\\lib\\site-packages (from transformers) (2024.9.11)\n",
      "Requirement already satisfied: requests in c:\\users\\mosel\\appdata\\local\\programs\\python\\python311\\lib\\site-packages (from transformers) (2.32.3)\n",
      "Requirement already satisfied: safetensors>=0.4.1 in c:\\users\\mosel\\appdata\\local\\programs\\python\\python311\\lib\\site-packages (from transformers) (0.4.5)\n",
      "Requirement already satisfied: tokenizers<0.21,>=0.20 in c:\\users\\mosel\\appdata\\local\\programs\\python\\python311\\lib\\site-packages (from transformers) (0.20.1)\n",
      "Requirement already satisfied: tqdm>=4.27 in c:\\users\\mosel\\appdata\\local\\programs\\python\\python311\\lib\\site-packages (from transformers) (4.66.5)\n",
      "Requirement already satisfied: fsspec>=2023.5.0 in c:\\users\\mosel\\appdata\\local\\programs\\python\\python311\\lib\\site-packages (from huggingface-hub<1.0,>=0.23.2->transformers) (2024.10.0)\n",
      "Requirement already satisfied: typing-extensions>=3.7.4.3 in c:\\users\\mosel\\appdata\\local\\programs\\python\\python311\\lib\\site-packages (from huggingface-hub<1.0,>=0.23.2->transformers) (4.12.2)\n",
      "Requirement already satisfied: colorama in c:\\users\\mosel\\appdata\\local\\programs\\python\\python311\\lib\\site-packages (from tqdm>=4.27->transformers) (0.4.6)\n",
      "Requirement already satisfied: charset-normalizer<4,>=2 in c:\\users\\mosel\\appdata\\local\\programs\\python\\python311\\lib\\site-packages (from requests->transformers) (3.3.2)\n",
      "Requirement already satisfied: idna<4,>=2.5 in c:\\users\\mosel\\appdata\\local\\programs\\python\\python311\\lib\\site-packages (from requests->transformers) (3.7)\n",
      "Requirement already satisfied: urllib3<3,>=1.21.1 in c:\\users\\mosel\\appdata\\local\\programs\\python\\python311\\lib\\site-packages (from requests->transformers) (2.2.2)\n",
      "Requirement already satisfied: certifi>=2017.4.17 in c:\\users\\mosel\\appdata\\local\\programs\\python\\python311\\lib\\site-packages (from requests->transformers) (2024.7.4)\n",
      "Requirement already satisfied: soundfile in c:\\users\\mosel\\appdata\\local\\programs\\python\\python311\\lib\\site-packages (0.12.1)\n",
      "Requirement already satisfied: cffi>=1.0 in c:\\users\\mosel\\appdata\\local\\programs\\python\\python311\\lib\\site-packages (from soundfile) (1.17.0)\n",
      "Requirement already satisfied: pycparser in c:\\users\\mosel\\appdata\\local\\programs\\python\\python311\\lib\\site-packages (from cffi>=1.0->soundfile) (2.22)\n"
     ]
    }
   ],
   "source": [
    "# install dependencies\n",
    "!pip install git+https://github.com/huggingface/parler-tts.git\n",
    "!pip install IPython\n",
    "!pip install transformers \n",
    "!pip install soundfile"
   ]
  },
  {
   "cell_type": "code",
   "execution_count": 5,
   "id": "f98343f6-c0d0-4f6f-b7c7-65c720b434ee",
   "metadata": {},
   "outputs": [
    {
     "name": "stderr",
     "output_type": "stream",
     "text": [
      "Flash attention 2 is not installed\n"
     ]
    }
   ],
   "source": [
    "# import dependencies \n",
    "import torch\n",
    "from parler_tts import ParlerTTSForConditionalGeneration\n",
    "from transformers import AutoTokenizer\n",
    "import soundfile as sf"
   ]
  },
  {
   "cell_type": "code",
   "execution_count": 6,
   "id": "9aeb0510-73c4-4200-9486-d9013f122afd",
   "metadata": {},
   "outputs": [
    {
     "data": {
      "application/vnd.jupyter.widget-view+json": {
       "model_id": "39c9cc0870d746009458639dc3b2e7e0",
       "version_major": 2,
       "version_minor": 0
      },
      "text/plain": [
       "config.json:   0%|          | 0.00/6.93k [00:00<?, ?B/s]"
      ]
     },
     "metadata": {},
     "output_type": "display_data"
    },
    {
     "name": "stderr",
     "output_type": "stream",
     "text": [
      "C:\\Users\\mosel\\AppData\\Local\\Programs\\Python\\Python311\\Lib\\site-packages\\huggingface_hub\\file_download.py:139: UserWarning: `huggingface_hub` cache-system uses symlinks by default to efficiently store duplicated files but your machine does not support them in C:\\Users\\mosel\\.cache\\huggingface\\hub\\models--parler-tts--parler-tts-mini-v1. Caching files will still work but in a degraded version that might require more space on your disk. This warning can be disabled by setting the `HF_HUB_DISABLE_SYMLINKS_WARNING` environment variable. For more details, see https://huggingface.co/docs/huggingface_hub/how-to-cache#limitations.\n",
      "To support symlinks on Windows, you either need to activate Developer Mode or to run Python as an administrator. In order to activate developer mode, see this article: https://docs.microsoft.com/en-us/windows/apps/get-started/enable-your-device-for-development\n",
      "  warnings.warn(message)\n"
     ]
    },
    {
     "data": {
      "application/vnd.jupyter.widget-view+json": {
       "model_id": "fb7c8a6d10b94322acece946bf63ca31",
       "version_major": 2,
       "version_minor": 0
      },
      "text/plain": [
       "model.safetensors:   0%|          | 0.00/3.51G [00:00<?, ?B/s]"
      ]
     },
     "metadata": {},
     "output_type": "display_data"
    },
    {
     "ename": "KeyboardInterrupt",
     "evalue": "",
     "output_type": "error",
     "traceback": [
      "\u001b[1;31m---------------------------------------------------------------------------\u001b[0m",
      "\u001b[1;31mKeyboardInterrupt\u001b[0m                         Traceback (most recent call last)",
      "Cell \u001b[1;32mIn[6], line 2\u001b[0m\n\u001b[0;32m      1\u001b[0m \u001b[38;5;66;03m# initialise model\u001b[39;00m\n\u001b[1;32m----> 2\u001b[0m model \u001b[38;5;241m=\u001b[39m \u001b[43mParlerTTSForConditionalGeneration\u001b[49m\u001b[38;5;241;43m.\u001b[39;49m\u001b[43mfrom_pretrained\u001b[49m\u001b[43m(\u001b[49m\u001b[38;5;124;43m\"\u001b[39;49m\u001b[38;5;124;43mparler-tts/parler-tts-mini-v1\u001b[39;49m\u001b[38;5;124;43m\"\u001b[39;49m\u001b[43m)\u001b[49m\u001b[38;5;241m.\u001b[39mto(device)\n\u001b[0;32m      3\u001b[0m tokenizer \u001b[38;5;241m=\u001b[39m AutoTokenizer\u001b[38;5;241m.\u001b[39mfrom_pretrained(\u001b[38;5;124m\"\u001b[39m\u001b[38;5;124mparler-tts/parler-tts-mini-v1\u001b[39m\u001b[38;5;124m\"\u001b[39m)\n",
      "File \u001b[1;32m~\\AppData\\Local\\Programs\\Python\\Python311\\Lib\\site-packages\\parler_tts\\modeling_parler_tts.py:2486\u001b[0m, in \u001b[0;36mParlerTTSForConditionalGeneration.from_pretrained\u001b[1;34m(cls, pretrained_model_name_or_path, *model_args, **kwargs)\u001b[0m\n\u001b[0;32m   2480\u001b[0m     logger\u001b[38;5;241m.\u001b[39mwarning(\n\u001b[0;32m   2481\u001b[0m         \u001b[38;5;124m\"\u001b[39m\u001b[38;5;124mFast initialization is currently not supported for ParlerTTSForConditionalGeneration. \u001b[39m\u001b[38;5;124m\"\u001b[39m\n\u001b[0;32m   2482\u001b[0m         \u001b[38;5;124m\"\u001b[39m\u001b[38;5;124mFalling back to slow initialization...\u001b[39m\u001b[38;5;124m\"\u001b[39m\n\u001b[0;32m   2483\u001b[0m     )\n\u001b[0;32m   2484\u001b[0m kwargs[\u001b[38;5;124m\"\u001b[39m\u001b[38;5;124m_fast_init\u001b[39m\u001b[38;5;124m\"\u001b[39m] \u001b[38;5;241m=\u001b[39m \u001b[38;5;28;01mFalse\u001b[39;00m\n\u001b[1;32m-> 2486\u001b[0m \u001b[38;5;28;01mreturn\u001b[39;00m \u001b[38;5;28;43msuper\u001b[39;49m\u001b[43m(\u001b[49m\u001b[43m)\u001b[49m\u001b[38;5;241;43m.\u001b[39;49m\u001b[43mfrom_pretrained\u001b[49m\u001b[43m(\u001b[49m\u001b[43mpretrained_model_name_or_path\u001b[49m\u001b[43m,\u001b[49m\u001b[43m \u001b[49m\u001b[38;5;241;43m*\u001b[39;49m\u001b[43mmodel_args\u001b[49m\u001b[43m,\u001b[49m\u001b[43m \u001b[49m\u001b[38;5;241;43m*\u001b[39;49m\u001b[38;5;241;43m*\u001b[39;49m\u001b[43mkwargs\u001b[49m\u001b[43m)\u001b[49m\n",
      "File \u001b[1;32m~\\AppData\\Local\\Programs\\Python\\Python311\\Lib\\site-packages\\transformers\\modeling_utils.py:3809\u001b[0m, in \u001b[0;36mPreTrainedModel.from_pretrained\u001b[1;34m(cls, pretrained_model_name_or_path, config, cache_dir, ignore_mismatched_sizes, force_download, local_files_only, token, revision, use_safetensors, weights_only, *model_args, **kwargs)\u001b[0m\n\u001b[0;32m   3793\u001b[0m \u001b[38;5;28;01mtry\u001b[39;00m:\n\u001b[0;32m   3794\u001b[0m     \u001b[38;5;66;03m# Load from URL or cache if already cached\u001b[39;00m\n\u001b[0;32m   3795\u001b[0m     cached_file_kwargs \u001b[38;5;241m=\u001b[39m {\n\u001b[0;32m   3796\u001b[0m         \u001b[38;5;124m\"\u001b[39m\u001b[38;5;124mcache_dir\u001b[39m\u001b[38;5;124m\"\u001b[39m: cache_dir,\n\u001b[0;32m   3797\u001b[0m         \u001b[38;5;124m\"\u001b[39m\u001b[38;5;124mforce_download\u001b[39m\u001b[38;5;124m\"\u001b[39m: force_download,\n\u001b[1;32m   (...)\u001b[0m\n\u001b[0;32m   3807\u001b[0m         \u001b[38;5;124m\"\u001b[39m\u001b[38;5;124m_commit_hash\u001b[39m\u001b[38;5;124m\"\u001b[39m: commit_hash,\n\u001b[0;32m   3808\u001b[0m     }\n\u001b[1;32m-> 3809\u001b[0m     resolved_archive_file \u001b[38;5;241m=\u001b[39m \u001b[43mcached_file\u001b[49m\u001b[43m(\u001b[49m\u001b[43mpretrained_model_name_or_path\u001b[49m\u001b[43m,\u001b[49m\u001b[43m \u001b[49m\u001b[43mfilename\u001b[49m\u001b[43m,\u001b[49m\u001b[43m \u001b[49m\u001b[38;5;241;43m*\u001b[39;49m\u001b[38;5;241;43m*\u001b[39;49m\u001b[43mcached_file_kwargs\u001b[49m\u001b[43m)\u001b[49m\n\u001b[0;32m   3811\u001b[0m     \u001b[38;5;66;03m# Since we set _raise_exceptions_for_missing_entries=False, we don't get an exception but a None\u001b[39;00m\n\u001b[0;32m   3812\u001b[0m     \u001b[38;5;66;03m# result when internet is up, the repo and revision exist, but the file does not.\u001b[39;00m\n\u001b[0;32m   3813\u001b[0m     \u001b[38;5;28;01mif\u001b[39;00m resolved_archive_file \u001b[38;5;129;01mis\u001b[39;00m \u001b[38;5;28;01mNone\u001b[39;00m \u001b[38;5;129;01mand\u001b[39;00m filename \u001b[38;5;241m==\u001b[39m _add_variant(SAFE_WEIGHTS_NAME, variant):\n\u001b[0;32m   3814\u001b[0m         \u001b[38;5;66;03m# Maybe the checkpoint is sharded, we try to grab the index name in this case.\u001b[39;00m\n",
      "File \u001b[1;32m~\\AppData\\Local\\Programs\\Python\\Python311\\Lib\\site-packages\\transformers\\utils\\hub.py:403\u001b[0m, in \u001b[0;36mcached_file\u001b[1;34m(path_or_repo_id, filename, cache_dir, force_download, resume_download, proxies, token, revision, local_files_only, subfolder, repo_type, user_agent, _raise_exceptions_for_gated_repo, _raise_exceptions_for_missing_entries, _raise_exceptions_for_connection_errors, _commit_hash, **deprecated_kwargs)\u001b[0m\n\u001b[0;32m    400\u001b[0m user_agent \u001b[38;5;241m=\u001b[39m http_user_agent(user_agent)\n\u001b[0;32m    401\u001b[0m \u001b[38;5;28;01mtry\u001b[39;00m:\n\u001b[0;32m    402\u001b[0m     \u001b[38;5;66;03m# Load from URL or cache if already cached\u001b[39;00m\n\u001b[1;32m--> 403\u001b[0m     resolved_file \u001b[38;5;241m=\u001b[39m \u001b[43mhf_hub_download\u001b[49m\u001b[43m(\u001b[49m\n\u001b[0;32m    404\u001b[0m \u001b[43m        \u001b[49m\u001b[43mpath_or_repo_id\u001b[49m\u001b[43m,\u001b[49m\n\u001b[0;32m    405\u001b[0m \u001b[43m        \u001b[49m\u001b[43mfilename\u001b[49m\u001b[43m,\u001b[49m\n\u001b[0;32m    406\u001b[0m \u001b[43m        \u001b[49m\u001b[43msubfolder\u001b[49m\u001b[38;5;241;43m=\u001b[39;49m\u001b[38;5;28;43;01mNone\u001b[39;49;00m\u001b[43m \u001b[49m\u001b[38;5;28;43;01mif\u001b[39;49;00m\u001b[43m \u001b[49m\u001b[38;5;28;43mlen\u001b[39;49m\u001b[43m(\u001b[49m\u001b[43msubfolder\u001b[49m\u001b[43m)\u001b[49m\u001b[43m \u001b[49m\u001b[38;5;241;43m==\u001b[39;49m\u001b[43m \u001b[49m\u001b[38;5;241;43m0\u001b[39;49m\u001b[43m \u001b[49m\u001b[38;5;28;43;01melse\u001b[39;49;00m\u001b[43m \u001b[49m\u001b[43msubfolder\u001b[49m\u001b[43m,\u001b[49m\n\u001b[0;32m    407\u001b[0m \u001b[43m        \u001b[49m\u001b[43mrepo_type\u001b[49m\u001b[38;5;241;43m=\u001b[39;49m\u001b[43mrepo_type\u001b[49m\u001b[43m,\u001b[49m\n\u001b[0;32m    408\u001b[0m \u001b[43m        \u001b[49m\u001b[43mrevision\u001b[49m\u001b[38;5;241;43m=\u001b[39;49m\u001b[43mrevision\u001b[49m\u001b[43m,\u001b[49m\n\u001b[0;32m    409\u001b[0m \u001b[43m        \u001b[49m\u001b[43mcache_dir\u001b[49m\u001b[38;5;241;43m=\u001b[39;49m\u001b[43mcache_dir\u001b[49m\u001b[43m,\u001b[49m\n\u001b[0;32m    410\u001b[0m \u001b[43m        \u001b[49m\u001b[43muser_agent\u001b[49m\u001b[38;5;241;43m=\u001b[39;49m\u001b[43muser_agent\u001b[49m\u001b[43m,\u001b[49m\n\u001b[0;32m    411\u001b[0m \u001b[43m        \u001b[49m\u001b[43mforce_download\u001b[49m\u001b[38;5;241;43m=\u001b[39;49m\u001b[43mforce_download\u001b[49m\u001b[43m,\u001b[49m\n\u001b[0;32m    412\u001b[0m \u001b[43m        \u001b[49m\u001b[43mproxies\u001b[49m\u001b[38;5;241;43m=\u001b[39;49m\u001b[43mproxies\u001b[49m\u001b[43m,\u001b[49m\n\u001b[0;32m    413\u001b[0m \u001b[43m        \u001b[49m\u001b[43mresume_download\u001b[49m\u001b[38;5;241;43m=\u001b[39;49m\u001b[43mresume_download\u001b[49m\u001b[43m,\u001b[49m\n\u001b[0;32m    414\u001b[0m \u001b[43m        \u001b[49m\u001b[43mtoken\u001b[49m\u001b[38;5;241;43m=\u001b[39;49m\u001b[43mtoken\u001b[49m\u001b[43m,\u001b[49m\n\u001b[0;32m    415\u001b[0m \u001b[43m        \u001b[49m\u001b[43mlocal_files_only\u001b[49m\u001b[38;5;241;43m=\u001b[39;49m\u001b[43mlocal_files_only\u001b[49m\u001b[43m,\u001b[49m\n\u001b[0;32m    416\u001b[0m \u001b[43m    \u001b[49m\u001b[43m)\u001b[49m\n\u001b[0;32m    417\u001b[0m \u001b[38;5;28;01mexcept\u001b[39;00m GatedRepoError \u001b[38;5;28;01mas\u001b[39;00m e:\n\u001b[0;32m    418\u001b[0m     resolved_file \u001b[38;5;241m=\u001b[39m _get_cache_file_to_return(path_or_repo_id, full_filename, cache_dir, revision)\n",
      "File \u001b[1;32m~\\AppData\\Local\\Programs\\Python\\Python311\\Lib\\site-packages\\huggingface_hub\\utils\\_validators.py:114\u001b[0m, in \u001b[0;36mvalidate_hf_hub_args.<locals>._inner_fn\u001b[1;34m(*args, **kwargs)\u001b[0m\n\u001b[0;32m    111\u001b[0m \u001b[38;5;28;01mif\u001b[39;00m check_use_auth_token:\n\u001b[0;32m    112\u001b[0m     kwargs \u001b[38;5;241m=\u001b[39m smoothly_deprecate_use_auth_token(fn_name\u001b[38;5;241m=\u001b[39mfn\u001b[38;5;241m.\u001b[39m\u001b[38;5;18m__name__\u001b[39m, has_token\u001b[38;5;241m=\u001b[39mhas_token, kwargs\u001b[38;5;241m=\u001b[39mkwargs)\n\u001b[1;32m--> 114\u001b[0m \u001b[38;5;28;01mreturn\u001b[39;00m \u001b[43mfn\u001b[49m\u001b[43m(\u001b[49m\u001b[38;5;241;43m*\u001b[39;49m\u001b[43margs\u001b[49m\u001b[43m,\u001b[49m\u001b[43m \u001b[49m\u001b[38;5;241;43m*\u001b[39;49m\u001b[38;5;241;43m*\u001b[39;49m\u001b[43mkwargs\u001b[49m\u001b[43m)\u001b[49m\n",
      "File \u001b[1;32m~\\AppData\\Local\\Programs\\Python\\Python311\\Lib\\site-packages\\huggingface_hub\\file_download.py:862\u001b[0m, in \u001b[0;36mhf_hub_download\u001b[1;34m(repo_id, filename, subfolder, repo_type, revision, library_name, library_version, cache_dir, local_dir, user_agent, force_download, proxies, etag_timeout, token, local_files_only, headers, endpoint, resume_download, force_filename, local_dir_use_symlinks)\u001b[0m\n\u001b[0;32m    842\u001b[0m     \u001b[38;5;28;01mreturn\u001b[39;00m _hf_hub_download_to_local_dir(\n\u001b[0;32m    843\u001b[0m         \u001b[38;5;66;03m# Destination\u001b[39;00m\n\u001b[0;32m    844\u001b[0m         local_dir\u001b[38;5;241m=\u001b[39mlocal_dir,\n\u001b[1;32m   (...)\u001b[0m\n\u001b[0;32m    859\u001b[0m         local_files_only\u001b[38;5;241m=\u001b[39mlocal_files_only,\n\u001b[0;32m    860\u001b[0m     )\n\u001b[0;32m    861\u001b[0m \u001b[38;5;28;01melse\u001b[39;00m:\n\u001b[1;32m--> 862\u001b[0m     \u001b[38;5;28;01mreturn\u001b[39;00m \u001b[43m_hf_hub_download_to_cache_dir\u001b[49m\u001b[43m(\u001b[49m\n\u001b[0;32m    863\u001b[0m \u001b[43m        \u001b[49m\u001b[38;5;66;43;03m# Destination\u001b[39;49;00m\n\u001b[0;32m    864\u001b[0m \u001b[43m        \u001b[49m\u001b[43mcache_dir\u001b[49m\u001b[38;5;241;43m=\u001b[39;49m\u001b[43mcache_dir\u001b[49m\u001b[43m,\u001b[49m\n\u001b[0;32m    865\u001b[0m \u001b[43m        \u001b[49m\u001b[38;5;66;43;03m# File info\u001b[39;49;00m\n\u001b[0;32m    866\u001b[0m \u001b[43m        \u001b[49m\u001b[43mrepo_id\u001b[49m\u001b[38;5;241;43m=\u001b[39;49m\u001b[43mrepo_id\u001b[49m\u001b[43m,\u001b[49m\n\u001b[0;32m    867\u001b[0m \u001b[43m        \u001b[49m\u001b[43mfilename\u001b[49m\u001b[38;5;241;43m=\u001b[39;49m\u001b[43mfilename\u001b[49m\u001b[43m,\u001b[49m\n\u001b[0;32m    868\u001b[0m \u001b[43m        \u001b[49m\u001b[43mrepo_type\u001b[49m\u001b[38;5;241;43m=\u001b[39;49m\u001b[43mrepo_type\u001b[49m\u001b[43m,\u001b[49m\n\u001b[0;32m    869\u001b[0m \u001b[43m        \u001b[49m\u001b[43mrevision\u001b[49m\u001b[38;5;241;43m=\u001b[39;49m\u001b[43mrevision\u001b[49m\u001b[43m,\u001b[49m\n\u001b[0;32m    870\u001b[0m \u001b[43m        \u001b[49m\u001b[38;5;66;43;03m# HTTP info\u001b[39;49;00m\n\u001b[0;32m    871\u001b[0m \u001b[43m        \u001b[49m\u001b[43mendpoint\u001b[49m\u001b[38;5;241;43m=\u001b[39;49m\u001b[43mendpoint\u001b[49m\u001b[43m,\u001b[49m\n\u001b[0;32m    872\u001b[0m \u001b[43m        \u001b[49m\u001b[43metag_timeout\u001b[49m\u001b[38;5;241;43m=\u001b[39;49m\u001b[43metag_timeout\u001b[49m\u001b[43m,\u001b[49m\n\u001b[0;32m    873\u001b[0m \u001b[43m        \u001b[49m\u001b[43mheaders\u001b[49m\u001b[38;5;241;43m=\u001b[39;49m\u001b[43mheaders\u001b[49m\u001b[43m,\u001b[49m\n\u001b[0;32m    874\u001b[0m \u001b[43m        \u001b[49m\u001b[43mproxies\u001b[49m\u001b[38;5;241;43m=\u001b[39;49m\u001b[43mproxies\u001b[49m\u001b[43m,\u001b[49m\n\u001b[0;32m    875\u001b[0m \u001b[43m        \u001b[49m\u001b[43mtoken\u001b[49m\u001b[38;5;241;43m=\u001b[39;49m\u001b[43mtoken\u001b[49m\u001b[43m,\u001b[49m\n\u001b[0;32m    876\u001b[0m \u001b[43m        \u001b[49m\u001b[38;5;66;43;03m# Additional options\u001b[39;49;00m\n\u001b[0;32m    877\u001b[0m \u001b[43m        \u001b[49m\u001b[43mlocal_files_only\u001b[49m\u001b[38;5;241;43m=\u001b[39;49m\u001b[43mlocal_files_only\u001b[49m\u001b[43m,\u001b[49m\n\u001b[0;32m    878\u001b[0m \u001b[43m        \u001b[49m\u001b[43mforce_download\u001b[49m\u001b[38;5;241;43m=\u001b[39;49m\u001b[43mforce_download\u001b[49m\u001b[43m,\u001b[49m\n\u001b[0;32m    879\u001b[0m \u001b[43m    \u001b[49m\u001b[43m)\u001b[49m\n",
      "File \u001b[1;32m~\\AppData\\Local\\Programs\\Python\\Python311\\Lib\\site-packages\\huggingface_hub\\file_download.py:1011\u001b[0m, in \u001b[0;36m_hf_hub_download_to_cache_dir\u001b[1;34m(cache_dir, repo_id, filename, repo_type, revision, endpoint, etag_timeout, headers, proxies, token, local_files_only, force_download)\u001b[0m\n\u001b[0;32m   1009\u001b[0m Path(lock_path)\u001b[38;5;241m.\u001b[39mparent\u001b[38;5;241m.\u001b[39mmkdir(parents\u001b[38;5;241m=\u001b[39m\u001b[38;5;28;01mTrue\u001b[39;00m, exist_ok\u001b[38;5;241m=\u001b[39m\u001b[38;5;28;01mTrue\u001b[39;00m)\n\u001b[0;32m   1010\u001b[0m \u001b[38;5;28;01mwith\u001b[39;00m WeakFileLock(lock_path):\n\u001b[1;32m-> 1011\u001b[0m     \u001b[43m_download_to_tmp_and_move\u001b[49m\u001b[43m(\u001b[49m\n\u001b[0;32m   1012\u001b[0m \u001b[43m        \u001b[49m\u001b[43mincomplete_path\u001b[49m\u001b[38;5;241;43m=\u001b[39;49m\u001b[43mPath\u001b[49m\u001b[43m(\u001b[49m\u001b[43mblob_path\u001b[49m\u001b[43m \u001b[49m\u001b[38;5;241;43m+\u001b[39;49m\u001b[43m \u001b[49m\u001b[38;5;124;43m\"\u001b[39;49m\u001b[38;5;124;43m.incomplete\u001b[39;49m\u001b[38;5;124;43m\"\u001b[39;49m\u001b[43m)\u001b[49m\u001b[43m,\u001b[49m\n\u001b[0;32m   1013\u001b[0m \u001b[43m        \u001b[49m\u001b[43mdestination_path\u001b[49m\u001b[38;5;241;43m=\u001b[39;49m\u001b[43mPath\u001b[49m\u001b[43m(\u001b[49m\u001b[43mblob_path\u001b[49m\u001b[43m)\u001b[49m\u001b[43m,\u001b[49m\n\u001b[0;32m   1014\u001b[0m \u001b[43m        \u001b[49m\u001b[43murl_to_download\u001b[49m\u001b[38;5;241;43m=\u001b[39;49m\u001b[43murl_to_download\u001b[49m\u001b[43m,\u001b[49m\n\u001b[0;32m   1015\u001b[0m \u001b[43m        \u001b[49m\u001b[43mproxies\u001b[49m\u001b[38;5;241;43m=\u001b[39;49m\u001b[43mproxies\u001b[49m\u001b[43m,\u001b[49m\n\u001b[0;32m   1016\u001b[0m \u001b[43m        \u001b[49m\u001b[43mheaders\u001b[49m\u001b[38;5;241;43m=\u001b[39;49m\u001b[43mheaders\u001b[49m\u001b[43m,\u001b[49m\n\u001b[0;32m   1017\u001b[0m \u001b[43m        \u001b[49m\u001b[43mexpected_size\u001b[49m\u001b[38;5;241;43m=\u001b[39;49m\u001b[43mexpected_size\u001b[49m\u001b[43m,\u001b[49m\n\u001b[0;32m   1018\u001b[0m \u001b[43m        \u001b[49m\u001b[43mfilename\u001b[49m\u001b[38;5;241;43m=\u001b[39;49m\u001b[43mfilename\u001b[49m\u001b[43m,\u001b[49m\n\u001b[0;32m   1019\u001b[0m \u001b[43m        \u001b[49m\u001b[43mforce_download\u001b[49m\u001b[38;5;241;43m=\u001b[39;49m\u001b[43mforce_download\u001b[49m\u001b[43m,\u001b[49m\n\u001b[0;32m   1020\u001b[0m \u001b[43m    \u001b[49m\u001b[43m)\u001b[49m\n\u001b[0;32m   1021\u001b[0m     \u001b[38;5;28;01mif\u001b[39;00m \u001b[38;5;129;01mnot\u001b[39;00m os\u001b[38;5;241m.\u001b[39mpath\u001b[38;5;241m.\u001b[39mexists(pointer_path):\n\u001b[0;32m   1022\u001b[0m         _create_symlink(blob_path, pointer_path, new_blob\u001b[38;5;241m=\u001b[39m\u001b[38;5;28;01mTrue\u001b[39;00m)\n",
      "File \u001b[1;32m~\\AppData\\Local\\Programs\\Python\\Python311\\Lib\\site-packages\\huggingface_hub\\file_download.py:1545\u001b[0m, in \u001b[0;36m_download_to_tmp_and_move\u001b[1;34m(incomplete_path, destination_path, url_to_download, proxies, headers, expected_size, filename, force_download)\u001b[0m\n\u001b[0;32m   1542\u001b[0m         _check_disk_space(expected_size, incomplete_path\u001b[38;5;241m.\u001b[39mparent)\n\u001b[0;32m   1543\u001b[0m         _check_disk_space(expected_size, destination_path\u001b[38;5;241m.\u001b[39mparent)\n\u001b[1;32m-> 1545\u001b[0m     \u001b[43mhttp_get\u001b[49m\u001b[43m(\u001b[49m\n\u001b[0;32m   1546\u001b[0m \u001b[43m        \u001b[49m\u001b[43murl_to_download\u001b[49m\u001b[43m,\u001b[49m\n\u001b[0;32m   1547\u001b[0m \u001b[43m        \u001b[49m\u001b[43mf\u001b[49m\u001b[43m,\u001b[49m\n\u001b[0;32m   1548\u001b[0m \u001b[43m        \u001b[49m\u001b[43mproxies\u001b[49m\u001b[38;5;241;43m=\u001b[39;49m\u001b[43mproxies\u001b[49m\u001b[43m,\u001b[49m\n\u001b[0;32m   1549\u001b[0m \u001b[43m        \u001b[49m\u001b[43mresume_size\u001b[49m\u001b[38;5;241;43m=\u001b[39;49m\u001b[43mresume_size\u001b[49m\u001b[43m,\u001b[49m\n\u001b[0;32m   1550\u001b[0m \u001b[43m        \u001b[49m\u001b[43mheaders\u001b[49m\u001b[38;5;241;43m=\u001b[39;49m\u001b[43mheaders\u001b[49m\u001b[43m,\u001b[49m\n\u001b[0;32m   1551\u001b[0m \u001b[43m        \u001b[49m\u001b[43mexpected_size\u001b[49m\u001b[38;5;241;43m=\u001b[39;49m\u001b[43mexpected_size\u001b[49m\u001b[43m,\u001b[49m\n\u001b[0;32m   1552\u001b[0m \u001b[43m    \u001b[49m\u001b[43m)\u001b[49m\n\u001b[0;32m   1554\u001b[0m logger\u001b[38;5;241m.\u001b[39minfo(\u001b[38;5;124mf\u001b[39m\u001b[38;5;124m\"\u001b[39m\u001b[38;5;124mDownload complete. Moving file to \u001b[39m\u001b[38;5;132;01m{\u001b[39;00mdestination_path\u001b[38;5;132;01m}\u001b[39;00m\u001b[38;5;124m\"\u001b[39m)\n\u001b[0;32m   1555\u001b[0m _chmod_and_move(incomplete_path, destination_path)\n",
      "File \u001b[1;32m~\\AppData\\Local\\Programs\\Python\\Python311\\Lib\\site-packages\\huggingface_hub\\file_download.py:454\u001b[0m, in \u001b[0;36mhttp_get\u001b[1;34m(url, temp_file, proxies, resume_size, headers, expected_size, displayed_filename, _nb_retries, _tqdm_bar)\u001b[0m\n\u001b[0;32m    452\u001b[0m new_resume_size \u001b[38;5;241m=\u001b[39m resume_size\n\u001b[0;32m    453\u001b[0m \u001b[38;5;28;01mtry\u001b[39;00m:\n\u001b[1;32m--> 454\u001b[0m \u001b[43m    \u001b[49m\u001b[38;5;28;43;01mfor\u001b[39;49;00m\u001b[43m \u001b[49m\u001b[43mchunk\u001b[49m\u001b[43m \u001b[49m\u001b[38;5;129;43;01min\u001b[39;49;00m\u001b[43m \u001b[49m\u001b[43mr\u001b[49m\u001b[38;5;241;43m.\u001b[39;49m\u001b[43miter_content\u001b[49m\u001b[43m(\u001b[49m\u001b[43mchunk_size\u001b[49m\u001b[38;5;241;43m=\u001b[39;49m\u001b[43mconstants\u001b[49m\u001b[38;5;241;43m.\u001b[39;49m\u001b[43mDOWNLOAD_CHUNK_SIZE\u001b[49m\u001b[43m)\u001b[49m\u001b[43m:\u001b[49m\n\u001b[0;32m    455\u001b[0m \u001b[43m        \u001b[49m\u001b[38;5;28;43;01mif\u001b[39;49;00m\u001b[43m \u001b[49m\u001b[43mchunk\u001b[49m\u001b[43m:\u001b[49m\u001b[43m  \u001b[49m\u001b[38;5;66;43;03m# filter out keep-alive new chunks\u001b[39;49;00m\n\u001b[0;32m    456\u001b[0m \u001b[43m            \u001b[49m\u001b[43mprogress\u001b[49m\u001b[38;5;241;43m.\u001b[39;49m\u001b[43mupdate\u001b[49m\u001b[43m(\u001b[49m\u001b[38;5;28;43mlen\u001b[39;49m\u001b[43m(\u001b[49m\u001b[43mchunk\u001b[49m\u001b[43m)\u001b[49m\u001b[43m)\u001b[49m\n",
      "File \u001b[1;32m~\\AppData\\Local\\Programs\\Python\\Python311\\Lib\\site-packages\\requests\\models.py:820\u001b[0m, in \u001b[0;36mResponse.iter_content.<locals>.generate\u001b[1;34m()\u001b[0m\n\u001b[0;32m    818\u001b[0m \u001b[38;5;28;01mif\u001b[39;00m \u001b[38;5;28mhasattr\u001b[39m(\u001b[38;5;28mself\u001b[39m\u001b[38;5;241m.\u001b[39mraw, \u001b[38;5;124m\"\u001b[39m\u001b[38;5;124mstream\u001b[39m\u001b[38;5;124m\"\u001b[39m):\n\u001b[0;32m    819\u001b[0m     \u001b[38;5;28;01mtry\u001b[39;00m:\n\u001b[1;32m--> 820\u001b[0m         \u001b[38;5;28;01myield from\u001b[39;00m \u001b[38;5;28mself\u001b[39m\u001b[38;5;241m.\u001b[39mraw\u001b[38;5;241m.\u001b[39mstream(chunk_size, decode_content\u001b[38;5;241m=\u001b[39m\u001b[38;5;28;01mTrue\u001b[39;00m)\n\u001b[0;32m    821\u001b[0m     \u001b[38;5;28;01mexcept\u001b[39;00m ProtocolError \u001b[38;5;28;01mas\u001b[39;00m e:\n\u001b[0;32m    822\u001b[0m         \u001b[38;5;28;01mraise\u001b[39;00m ChunkedEncodingError(e)\n",
      "File \u001b[1;32m~\\AppData\\Local\\Programs\\Python\\Python311\\Lib\\site-packages\\urllib3\\response.py:1060\u001b[0m, in \u001b[0;36mHTTPResponse.stream\u001b[1;34m(self, amt, decode_content)\u001b[0m\n\u001b[0;32m   1058\u001b[0m \u001b[38;5;28;01melse\u001b[39;00m:\n\u001b[0;32m   1059\u001b[0m     \u001b[38;5;28;01mwhile\u001b[39;00m \u001b[38;5;129;01mnot\u001b[39;00m is_fp_closed(\u001b[38;5;28mself\u001b[39m\u001b[38;5;241m.\u001b[39m_fp) \u001b[38;5;129;01mor\u001b[39;00m \u001b[38;5;28mlen\u001b[39m(\u001b[38;5;28mself\u001b[39m\u001b[38;5;241m.\u001b[39m_decoded_buffer) \u001b[38;5;241m>\u001b[39m \u001b[38;5;241m0\u001b[39m:\n\u001b[1;32m-> 1060\u001b[0m         data \u001b[38;5;241m=\u001b[39m \u001b[38;5;28;43mself\u001b[39;49m\u001b[38;5;241;43m.\u001b[39;49m\u001b[43mread\u001b[49m\u001b[43m(\u001b[49m\u001b[43mamt\u001b[49m\u001b[38;5;241;43m=\u001b[39;49m\u001b[43mamt\u001b[49m\u001b[43m,\u001b[49m\u001b[43m \u001b[49m\u001b[43mdecode_content\u001b[49m\u001b[38;5;241;43m=\u001b[39;49m\u001b[43mdecode_content\u001b[49m\u001b[43m)\u001b[49m\n\u001b[0;32m   1062\u001b[0m         \u001b[38;5;28;01mif\u001b[39;00m data:\n\u001b[0;32m   1063\u001b[0m             \u001b[38;5;28;01myield\u001b[39;00m data\n",
      "File \u001b[1;32m~\\AppData\\Local\\Programs\\Python\\Python311\\Lib\\site-packages\\urllib3\\response.py:949\u001b[0m, in \u001b[0;36mHTTPResponse.read\u001b[1;34m(self, amt, decode_content, cache_content)\u001b[0m\n\u001b[0;32m    946\u001b[0m     \u001b[38;5;28;01mif\u001b[39;00m \u001b[38;5;28mlen\u001b[39m(\u001b[38;5;28mself\u001b[39m\u001b[38;5;241m.\u001b[39m_decoded_buffer) \u001b[38;5;241m>\u001b[39m\u001b[38;5;241m=\u001b[39m amt:\n\u001b[0;32m    947\u001b[0m         \u001b[38;5;28;01mreturn\u001b[39;00m \u001b[38;5;28mself\u001b[39m\u001b[38;5;241m.\u001b[39m_decoded_buffer\u001b[38;5;241m.\u001b[39mget(amt)\n\u001b[1;32m--> 949\u001b[0m data \u001b[38;5;241m=\u001b[39m \u001b[38;5;28;43mself\u001b[39;49m\u001b[38;5;241;43m.\u001b[39;49m\u001b[43m_raw_read\u001b[49m\u001b[43m(\u001b[49m\u001b[43mamt\u001b[49m\u001b[43m)\u001b[49m\n\u001b[0;32m    951\u001b[0m flush_decoder \u001b[38;5;241m=\u001b[39m amt \u001b[38;5;129;01mis\u001b[39;00m \u001b[38;5;28;01mNone\u001b[39;00m \u001b[38;5;129;01mor\u001b[39;00m (amt \u001b[38;5;241m!=\u001b[39m \u001b[38;5;241m0\u001b[39m \u001b[38;5;129;01mand\u001b[39;00m \u001b[38;5;129;01mnot\u001b[39;00m data)\n\u001b[0;32m    953\u001b[0m \u001b[38;5;28;01mif\u001b[39;00m \u001b[38;5;129;01mnot\u001b[39;00m data \u001b[38;5;129;01mand\u001b[39;00m \u001b[38;5;28mlen\u001b[39m(\u001b[38;5;28mself\u001b[39m\u001b[38;5;241m.\u001b[39m_decoded_buffer) \u001b[38;5;241m==\u001b[39m \u001b[38;5;241m0\u001b[39m:\n",
      "File \u001b[1;32m~\\AppData\\Local\\Programs\\Python\\Python311\\Lib\\site-packages\\urllib3\\response.py:873\u001b[0m, in \u001b[0;36mHTTPResponse._raw_read\u001b[1;34m(self, amt, read1)\u001b[0m\n\u001b[0;32m    870\u001b[0m fp_closed \u001b[38;5;241m=\u001b[39m \u001b[38;5;28mgetattr\u001b[39m(\u001b[38;5;28mself\u001b[39m\u001b[38;5;241m.\u001b[39m_fp, \u001b[38;5;124m\"\u001b[39m\u001b[38;5;124mclosed\u001b[39m\u001b[38;5;124m\"\u001b[39m, \u001b[38;5;28;01mFalse\u001b[39;00m)\n\u001b[0;32m    872\u001b[0m \u001b[38;5;28;01mwith\u001b[39;00m \u001b[38;5;28mself\u001b[39m\u001b[38;5;241m.\u001b[39m_error_catcher():\n\u001b[1;32m--> 873\u001b[0m     data \u001b[38;5;241m=\u001b[39m \u001b[38;5;28;43mself\u001b[39;49m\u001b[38;5;241;43m.\u001b[39;49m\u001b[43m_fp_read\u001b[49m\u001b[43m(\u001b[49m\u001b[43mamt\u001b[49m\u001b[43m,\u001b[49m\u001b[43m \u001b[49m\u001b[43mread1\u001b[49m\u001b[38;5;241;43m=\u001b[39;49m\u001b[43mread1\u001b[49m\u001b[43m)\u001b[49m \u001b[38;5;28;01mif\u001b[39;00m \u001b[38;5;129;01mnot\u001b[39;00m fp_closed \u001b[38;5;28;01melse\u001b[39;00m \u001b[38;5;124mb\u001b[39m\u001b[38;5;124m\"\u001b[39m\u001b[38;5;124m\"\u001b[39m\n\u001b[0;32m    874\u001b[0m     \u001b[38;5;28;01mif\u001b[39;00m amt \u001b[38;5;129;01mis\u001b[39;00m \u001b[38;5;129;01mnot\u001b[39;00m \u001b[38;5;28;01mNone\u001b[39;00m \u001b[38;5;129;01mand\u001b[39;00m amt \u001b[38;5;241m!=\u001b[39m \u001b[38;5;241m0\u001b[39m \u001b[38;5;129;01mand\u001b[39;00m \u001b[38;5;129;01mnot\u001b[39;00m data:\n\u001b[0;32m    875\u001b[0m         \u001b[38;5;66;03m# Platform-specific: Buggy versions of Python.\u001b[39;00m\n\u001b[0;32m    876\u001b[0m         \u001b[38;5;66;03m# Close the connection when no data is returned\u001b[39;00m\n\u001b[1;32m   (...)\u001b[0m\n\u001b[0;32m    881\u001b[0m         \u001b[38;5;66;03m# not properly close the connection in all cases. There is\u001b[39;00m\n\u001b[0;32m    882\u001b[0m         \u001b[38;5;66;03m# no harm in redundantly calling close.\u001b[39;00m\n\u001b[0;32m    883\u001b[0m         \u001b[38;5;28mself\u001b[39m\u001b[38;5;241m.\u001b[39m_fp\u001b[38;5;241m.\u001b[39mclose()\n",
      "File \u001b[1;32m~\\AppData\\Local\\Programs\\Python\\Python311\\Lib\\site-packages\\urllib3\\response.py:856\u001b[0m, in \u001b[0;36mHTTPResponse._fp_read\u001b[1;34m(self, amt, read1)\u001b[0m\n\u001b[0;32m    853\u001b[0m     \u001b[38;5;28;01mreturn\u001b[39;00m \u001b[38;5;28mself\u001b[39m\u001b[38;5;241m.\u001b[39m_fp\u001b[38;5;241m.\u001b[39mread1(amt) \u001b[38;5;28;01mif\u001b[39;00m amt \u001b[38;5;129;01mis\u001b[39;00m \u001b[38;5;129;01mnot\u001b[39;00m \u001b[38;5;28;01mNone\u001b[39;00m \u001b[38;5;28;01melse\u001b[39;00m \u001b[38;5;28mself\u001b[39m\u001b[38;5;241m.\u001b[39m_fp\u001b[38;5;241m.\u001b[39mread1()\n\u001b[0;32m    854\u001b[0m \u001b[38;5;28;01melse\u001b[39;00m:\n\u001b[0;32m    855\u001b[0m     \u001b[38;5;66;03m# StringIO doesn't like amt=None\u001b[39;00m\n\u001b[1;32m--> 856\u001b[0m     \u001b[38;5;28;01mreturn\u001b[39;00m \u001b[38;5;28;43mself\u001b[39;49m\u001b[38;5;241;43m.\u001b[39;49m\u001b[43m_fp\u001b[49m\u001b[38;5;241;43m.\u001b[39;49m\u001b[43mread\u001b[49m\u001b[43m(\u001b[49m\u001b[43mamt\u001b[49m\u001b[43m)\u001b[49m \u001b[38;5;28;01mif\u001b[39;00m amt \u001b[38;5;129;01mis\u001b[39;00m \u001b[38;5;129;01mnot\u001b[39;00m \u001b[38;5;28;01mNone\u001b[39;00m \u001b[38;5;28;01melse\u001b[39;00m \u001b[38;5;28mself\u001b[39m\u001b[38;5;241m.\u001b[39m_fp\u001b[38;5;241m.\u001b[39mread()\n",
      "File \u001b[1;32m~\\AppData\\Local\\Programs\\Python\\Python311\\Lib\\http\\client.py:473\u001b[0m, in \u001b[0;36mHTTPResponse.read\u001b[1;34m(self, amt)\u001b[0m\n\u001b[0;32m    470\u001b[0m \u001b[38;5;28;01mif\u001b[39;00m \u001b[38;5;28mself\u001b[39m\u001b[38;5;241m.\u001b[39mlength \u001b[38;5;129;01mis\u001b[39;00m \u001b[38;5;129;01mnot\u001b[39;00m \u001b[38;5;28;01mNone\u001b[39;00m \u001b[38;5;129;01mand\u001b[39;00m amt \u001b[38;5;241m>\u001b[39m \u001b[38;5;28mself\u001b[39m\u001b[38;5;241m.\u001b[39mlength:\n\u001b[0;32m    471\u001b[0m     \u001b[38;5;66;03m# clip the read to the \"end of response\"\u001b[39;00m\n\u001b[0;32m    472\u001b[0m     amt \u001b[38;5;241m=\u001b[39m \u001b[38;5;28mself\u001b[39m\u001b[38;5;241m.\u001b[39mlength\n\u001b[1;32m--> 473\u001b[0m s \u001b[38;5;241m=\u001b[39m \u001b[38;5;28mself\u001b[39m\u001b[38;5;241m.\u001b[39mfp\u001b[38;5;241m.\u001b[39mread(amt)\n\u001b[0;32m    474\u001b[0m \u001b[38;5;28;01mif\u001b[39;00m \u001b[38;5;129;01mnot\u001b[39;00m s \u001b[38;5;129;01mand\u001b[39;00m amt:\n\u001b[0;32m    475\u001b[0m     \u001b[38;5;66;03m# Ideally, we would raise IncompleteRead if the content-length\u001b[39;00m\n\u001b[0;32m    476\u001b[0m     \u001b[38;5;66;03m# wasn't satisfied, but it might break compatibility.\u001b[39;00m\n\u001b[0;32m    477\u001b[0m     \u001b[38;5;28mself\u001b[39m\u001b[38;5;241m.\u001b[39m_close_conn()\n",
      "File \u001b[1;32m~\\AppData\\Local\\Programs\\Python\\Python311\\Lib\\socket.py:706\u001b[0m, in \u001b[0;36mSocketIO.readinto\u001b[1;34m(self, b)\u001b[0m\n\u001b[0;32m    704\u001b[0m \u001b[38;5;28;01mwhile\u001b[39;00m \u001b[38;5;28;01mTrue\u001b[39;00m:\n\u001b[0;32m    705\u001b[0m     \u001b[38;5;28;01mtry\u001b[39;00m:\n\u001b[1;32m--> 706\u001b[0m         \u001b[38;5;28;01mreturn\u001b[39;00m \u001b[38;5;28;43mself\u001b[39;49m\u001b[38;5;241;43m.\u001b[39;49m\u001b[43m_sock\u001b[49m\u001b[38;5;241;43m.\u001b[39;49m\u001b[43mrecv_into\u001b[49m\u001b[43m(\u001b[49m\u001b[43mb\u001b[49m\u001b[43m)\u001b[49m\n\u001b[0;32m    707\u001b[0m     \u001b[38;5;28;01mexcept\u001b[39;00m timeout:\n\u001b[0;32m    708\u001b[0m         \u001b[38;5;28mself\u001b[39m\u001b[38;5;241m.\u001b[39m_timeout_occurred \u001b[38;5;241m=\u001b[39m \u001b[38;5;28;01mTrue\u001b[39;00m\n",
      "File \u001b[1;32m~\\AppData\\Local\\Programs\\Python\\Python311\\Lib\\ssl.py:1314\u001b[0m, in \u001b[0;36mSSLSocket.recv_into\u001b[1;34m(self, buffer, nbytes, flags)\u001b[0m\n\u001b[0;32m   1310\u001b[0m     \u001b[38;5;28;01mif\u001b[39;00m flags \u001b[38;5;241m!=\u001b[39m \u001b[38;5;241m0\u001b[39m:\n\u001b[0;32m   1311\u001b[0m         \u001b[38;5;28;01mraise\u001b[39;00m \u001b[38;5;167;01mValueError\u001b[39;00m(\n\u001b[0;32m   1312\u001b[0m           \u001b[38;5;124m\"\u001b[39m\u001b[38;5;124mnon-zero flags not allowed in calls to recv_into() on \u001b[39m\u001b[38;5;132;01m%s\u001b[39;00m\u001b[38;5;124m\"\u001b[39m \u001b[38;5;241m%\u001b[39m\n\u001b[0;32m   1313\u001b[0m           \u001b[38;5;28mself\u001b[39m\u001b[38;5;241m.\u001b[39m\u001b[38;5;18m__class__\u001b[39m)\n\u001b[1;32m-> 1314\u001b[0m     \u001b[38;5;28;01mreturn\u001b[39;00m \u001b[38;5;28;43mself\u001b[39;49m\u001b[38;5;241;43m.\u001b[39;49m\u001b[43mread\u001b[49m\u001b[43m(\u001b[49m\u001b[43mnbytes\u001b[49m\u001b[43m,\u001b[49m\u001b[43m \u001b[49m\u001b[43mbuffer\u001b[49m\u001b[43m)\u001b[49m\n\u001b[0;32m   1315\u001b[0m \u001b[38;5;28;01melse\u001b[39;00m:\n\u001b[0;32m   1316\u001b[0m     \u001b[38;5;28;01mreturn\u001b[39;00m \u001b[38;5;28msuper\u001b[39m()\u001b[38;5;241m.\u001b[39mrecv_into(buffer, nbytes, flags)\n",
      "File \u001b[1;32m~\\AppData\\Local\\Programs\\Python\\Python311\\Lib\\ssl.py:1166\u001b[0m, in \u001b[0;36mSSLSocket.read\u001b[1;34m(self, len, buffer)\u001b[0m\n\u001b[0;32m   1164\u001b[0m \u001b[38;5;28;01mtry\u001b[39;00m:\n\u001b[0;32m   1165\u001b[0m     \u001b[38;5;28;01mif\u001b[39;00m buffer \u001b[38;5;129;01mis\u001b[39;00m \u001b[38;5;129;01mnot\u001b[39;00m \u001b[38;5;28;01mNone\u001b[39;00m:\n\u001b[1;32m-> 1166\u001b[0m         \u001b[38;5;28;01mreturn\u001b[39;00m \u001b[38;5;28;43mself\u001b[39;49m\u001b[38;5;241;43m.\u001b[39;49m\u001b[43m_sslobj\u001b[49m\u001b[38;5;241;43m.\u001b[39;49m\u001b[43mread\u001b[49m\u001b[43m(\u001b[49m\u001b[38;5;28;43mlen\u001b[39;49m\u001b[43m,\u001b[49m\u001b[43m \u001b[49m\u001b[43mbuffer\u001b[49m\u001b[43m)\u001b[49m\n\u001b[0;32m   1167\u001b[0m     \u001b[38;5;28;01melse\u001b[39;00m:\n\u001b[0;32m   1168\u001b[0m         \u001b[38;5;28;01mreturn\u001b[39;00m \u001b[38;5;28mself\u001b[39m\u001b[38;5;241m.\u001b[39m_sslobj\u001b[38;5;241m.\u001b[39mread(\u001b[38;5;28mlen\u001b[39m)\n",
      "\u001b[1;31mKeyboardInterrupt\u001b[0m: "
     ]
    }
   ],
   "source": [
    "# initialise model\n",
    "model = ParlerTTSForConditionalGeneration.from_pretrained(\"parler-tts/parler-tts-mini-v1\").to(device)\n",
    "tokenizer = AutoTokenizer.from_pretrained(\"parler-tts/parler-tts-mini-v1\")"
   ]
  }
 ],
 "metadata": {
  "kernelspec": {
   "display_name": "Python 3 (ipykernel)",
   "language": "python",
   "name": "python3"
  },
  "language_info": {
   "codemirror_mode": {
    "name": "ipython",
    "version": 3
   },
   "file_extension": ".py",
   "mimetype": "text/x-python",
   "name": "python",
   "nbconvert_exporter": "python",
   "pygments_lexer": "ipython3",
   "version": "3.11.9"
  }
 },
 "nbformat": 4,
 "nbformat_minor": 5
}
