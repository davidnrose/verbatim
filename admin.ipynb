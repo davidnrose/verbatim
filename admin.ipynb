{
 "cells": [
  {
   "cell_type": "code",
   "execution_count": 2,
   "id": "0b10dcb0-0897-4d97-a728-0c668405ec30",
   "metadata": {},
   "outputs": [],
   "source": [
    "import pandas as pd\n",
    "import os\n",
    "import sqlite3"
   ]
  },
  {
   "cell_type": "code",
   "execution_count": 15,
   "id": "ba29d40f-0c65-4996-93c8-cfe945dc829e",
   "metadata": {},
   "outputs": [],
   "source": [
    "data = {\"filename\": [\"START__\"], \"process_step\": [\"START__\"], \"time_stamp\": [\"START__\"]}\n",
    "df = pd.DataFrame.from_dict(data)"
   ]
  },
  {
   "cell_type": "code",
   "execution_count": 16,
   "id": "a268d7ad-42fb-4d3b-9ab5-4a4360877a64",
   "metadata": {},
   "outputs": [],
   "source": [
    "df.to_csv(r\"C:\\Users\\mosel\\PycharmProjects\\article_labelling\\database\\file_processing.csv\", index=False)"
   ]
  },
  {
   "cell_type": "code",
   "execution_count": 8,
   "id": "0c4f1942-7298-4539-9443-21a453606e60",
   "metadata": {},
   "outputs": [],
   "source": [
    "os.rename(\"./data/0_pdf/jit.2015.5.pdf\", \"./data/0_pdf/0002_jit.2015.5.pdf\")"
   ]
  },
  {
   "cell_type": "code",
   "execution_count": 23,
   "id": "31b86edb-b876-4c40-9a75-6cc1e2e4db70",
   "metadata": {},
   "outputs": [
    {
     "name": "stdout",
     "output_type": "stream",
     "text": [
      "0001_0001_ChatGPT_is_bullshi\n",
      "0002_0002_jit.2015.\n",
      "0003_s41586-022-05543-\n",
      "0004_SciAm-1949-Weave\n",
      "0005_TortoiseandSoftware-MooresLawetcJUS8-1\n"
     ]
    }
   ],
   "source": [
    "for f in os.listdir(\"./data/0_pdf/\"):\n",
    "    no_prefix = f[:-5]\n",
    "    print(no_prefix)"
   ]
  },
  {
   "cell_type": "code",
   "execution_count": 12,
   "id": "e34f0781-29f0-408a-b389-9d141a60c7fd",
   "metadata": {},
   "outputs": [
    {
     "data": {
      "text/plain": [
       "'001'"
      ]
     },
     "execution_count": 12,
     "metadata": {},
     "output_type": "execute_result"
    }
   ],
   "source": [
    "num = 1\n",
    "str(num).zfill(3)"
   ]
  },
  {
   "cell_type": "code",
   "execution_count": 11,
   "id": "04d0df43-fa33-4304-a847-ff270ff131fa",
   "metadata": {},
   "outputs": [
    {
     "data": {
      "text/html": [
       "<div>\n",
       "<style scoped>\n",
       "    .dataframe tbody tr th:only-of-type {\n",
       "        vertical-align: middle;\n",
       "    }\n",
       "\n",
       "    .dataframe tbody tr th {\n",
       "        vertical-align: top;\n",
       "    }\n",
       "\n",
       "    .dataframe thead th {\n",
       "        text-align: right;\n",
       "    }\n",
       "</style>\n",
       "<table border=\"1\" class=\"dataframe\">\n",
       "  <thead>\n",
       "    <tr style=\"text-align: right;\">\n",
       "      <th></th>\n",
       "      <th>filename</th>\n",
       "      <th>process_step</th>\n",
       "      <th>time_stamp</th>\n",
       "    </tr>\n",
       "  </thead>\n",
       "  <tbody>\n",
       "    <tr>\n",
       "      <th>0</th>\n",
       "      <td>START__</td>\n",
       "      <td>START__</td>\n",
       "      <td>START__</td>\n",
       "    </tr>\n",
       "  </tbody>\n",
       "</table>\n",
       "</div>"
      ],
      "text/plain": [
       "  filename process_step time_stamp\n",
       "0  START__      START__    START__"
      ]
     },
     "execution_count": 11,
     "metadata": {},
     "output_type": "execute_result"
    }
   ],
   "source": [
    "pd.read_csv(\"./database/file_processing.csv\")"
   ]
  },
  {
   "cell_type": "code",
   "execution_count": 13,
   "id": "36db9c09-ad46-45c3-9218-b95e42cd31cd",
   "metadata": {},
   "outputs": [],
   "source": [
    "row_data = [\"text_1\", \"text_2\", \"text_3\"] \n",
    "\n",
    "import csv \n",
    "with open(\"./database/file_processing.csv\", \"a\") as f: \n",
    "    writer = csv.writer(f)\n",
    "    writer.writerow(row_data)"
   ]
  },
  {
   "cell_type": "code",
   "execution_count": 20,
   "id": "7bcc84c0-e30e-4cfe-986f-8d2d7235e36d",
   "metadata": {},
   "outputs": [
    {
     "data": {
      "text/html": [
       "<div>\n",
       "<style scoped>\n",
       "    .dataframe tbody tr th:only-of-type {\n",
       "        vertical-align: middle;\n",
       "    }\n",
       "\n",
       "    .dataframe tbody tr th {\n",
       "        vertical-align: top;\n",
       "    }\n",
       "\n",
       "    .dataframe thead th {\n",
       "        text-align: right;\n",
       "    }\n",
       "</style>\n",
       "<table border=\"1\" class=\"dataframe\">\n",
       "  <thead>\n",
       "    <tr style=\"text-align: right;\">\n",
       "      <th></th>\n",
       "      <th>filename</th>\n",
       "      <th>process_step</th>\n",
       "      <th>time_stamp</th>\n",
       "    </tr>\n",
       "  </thead>\n",
       "  <tbody>\n",
       "    <tr>\n",
       "      <th>0</th>\n",
       "      <td>START__</td>\n",
       "      <td>START__</td>\n",
       "      <td>START__</td>\n",
       "    </tr>\n",
       "    <tr>\n",
       "      <th>1</th>\n",
       "      <td>0001_ChatGPT_is_bullshit.pdf</td>\n",
       "      <td>to_image</td>\n",
       "      <td>2024-11-03 17:11:51.582091</td>\n",
       "    </tr>\n",
       "    <tr>\n",
       "      <th>2</th>\n",
       "      <td>0002_jit.2015.5.pdf</td>\n",
       "      <td>to_image</td>\n",
       "      <td>2024-11-03 17:12:00.745421</td>\n",
       "    </tr>\n",
       "    <tr>\n",
       "      <th>3</th>\n",
       "      <td>0003_s41586-022-05543-x.pdf</td>\n",
       "      <td>to_image</td>\n",
       "      <td>2024-11-03 17:12:19.794577</td>\n",
       "    </tr>\n",
       "    <tr>\n",
       "      <th>4</th>\n",
       "      <td>0004_SciAm-1949-Weaver.pdf</td>\n",
       "      <td>to_image</td>\n",
       "      <td>2024-11-03 17:12:23.373845</td>\n",
       "    </tr>\n",
       "  </tbody>\n",
       "</table>\n",
       "</div>"
      ],
      "text/plain": [
       "                       filename process_step                  time_stamp\n",
       "0                       START__      START__                     START__\n",
       "1  0001_ChatGPT_is_bullshit.pdf     to_image  2024-11-03 17:11:51.582091\n",
       "2           0002_jit.2015.5.pdf     to_image  2024-11-03 17:12:00.745421\n",
       "3   0003_s41586-022-05543-x.pdf     to_image  2024-11-03 17:12:19.794577\n",
       "4    0004_SciAm-1949-Weaver.pdf     to_image  2024-11-03 17:12:23.373845"
      ]
     },
     "execution_count": 20,
     "metadata": {},
     "output_type": "execute_result"
    }
   ],
   "source": [
    "pd.read_csv(\"./database/file_processing.csv\")"
   ]
  },
  {
   "cell_type": "code",
   "execution_count": 2,
   "id": "0d90ade8-1cb7-4b33-aa06-d1da212c4289",
   "metadata": {},
   "outputs": [
    {
     "data": {
      "text/plain": [
       "'This article describes an emergent logic of accumulation in the networked sphere, ‘surveillance capitalism,’ and considers its implications for ‘information civilization.’ The institutionalizing practices and operational assumptions of Google Inc. are the primary lens for this analysis as they are rendered in two recent articles authored by Google Chief Economist Hal Varian. Varian asserts four uses that follow from computer-mediated transactions: ‘data extraction and analysis,’ ‘new contractual forms due to better monitor ing,’ ‘personalization and customization,’ and ‘continuous experiments.’ An examination of the nature and consequences of these uses sheds light on the implicit logic of surveillance capitalism and the global architecture of computer mediation upon which it depends. This architecture produces a distributed and largely uncontested new expression of power that I christen: ‘Big Other.’ It is constituted by unexpected and often illegible mechanisms of extraction, commodification, and control that effectively exile persons from their own behavior while producing new markets of behavioral prediction and modification. Surveil lance capitalism challenges democratic norms and departs in key ways from the centuries long evolution of market capitalism.'"
      ]
     },
     "execution_count": 2,
     "metadata": {},
     "output_type": "execute_result"
    }
   ],
   "source": [
    "import pandas as pd\n",
    "data = pd.read_csv(\"output.csv\")\n",
    "data.query(\"filename != '0001_ChatGPT_is_bullshit.pdf'\")[\"text\"].iloc[2].replace(\"-\\n\", \" \").replace(\"\\n\", \" \")"
   ]
  },
  {
   "cell_type": "markdown",
   "id": "8c04252b-746f-4bcc-9b97-74866bef782b",
   "metadata": {},
   "source": [
    "## Database"
   ]
  },
  {
   "cell_type": "markdown",
   "id": "9b93180a-fd84-403e-8d1e-4ac8fe0bccba",
   "metadata": {},
   "source": [
    "### functions"
   ]
  },
  {
   "cell_type": "code",
   "execution_count": 5,
   "id": "387342ec-69fd-4531-bf59-0f925f96771b",
   "metadata": {},
   "outputs": [],
   "source": [
    "# define function to convert pd.DataFrame to sqlite.db\n",
    "def df_to_db(input_df: pd.DataFrame,\n",
    "             table_name: str,\n",
    "             db_name: str = \"verbatim.db\"):\n",
    "  \n",
    "  # get columns\n",
    "  cols = input_df.columns\n",
    "  cols_string = ','.join(cols)\n",
    "  val_wildcard_string = \",\".join([\"?\"] * len(cols))\n",
    "  \n",
    "  # open connection to existing db or create new, create cursor instance for executing queries\n",
    "  con = sqlite3.connect(db_name)\n",
    "  cur = con.cursor()\n",
    "\n",
    "  # write and execute create statement using input table_name and extracted column names\n",
    "  try: \n",
    "    sql_string = f\"\"\"CREATE TABLE {table_name} ({cols_string});\"\"\"\n",
    "    cur.execute(sql_string)\n",
    "  except: \n",
    "    pass\n",
    "\n",
    "  # write and execute another statement to insert rows into the table created above\n",
    "  rows_to_upload = input_df.to_dict(orient=\"split\")[\"data\"]\n",
    "  sql_string = f\"\"\"INSERT INTO {table_name} ({cols_string}) VALUES ({val_wildcard_string});\"\"\"\n",
    "  cur.executemany(sql_string, rows_to_upload)\n",
    "\n",
    "  # commit changes to db and close connection \n",
    "  con.commit()\n",
    "  con.close()"
   ]
  },
  {
   "cell_type": "code",
   "execution_count": 35,
   "id": "19acb1de-1d11-4b91-ba39-374d84d76256",
   "metadata": {},
   "outputs": [],
   "source": [
    "# define function to execute queries on the created database and return a pd.DataFrame\n",
    "def sql_query(sql_query_string: str, \n",
    "              db_name: str = \"verbatim.db\"):\n",
    "  \n",
    "  # connect to SQL db\n",
    "  con = sqlite3.connect(db_name)\n",
    "\n",
    "  # execute query\n",
    "  cursor = con.execute(sql_query_string)\n",
    "\n",
    "  # get data and column names\n",
    "  result_data = cursor.fetchall()\n",
    "  # description attribute returns a 7-tuple for which the last 6 items are None\n",
    "  # index to get the first row which is the column\n",
    "  if cursor.description == None:\n",
    "      pass\n",
    "  else: \n",
    "      cols = [description[0] for description in cursor.description]\n",
    "\n",
    "      # return the result as a dataframe\n",
    "      return pd.DataFrame(result_data, columns=cols)\n",
    "    \n",
    "  # close connection\n",
    "  con.close()"
   ]
  },
  {
   "cell_type": "code",
   "execution_count": 33,
   "id": "3a3728cd-e224-4a17-9ad6-f98b9cc8b680",
   "metadata": {},
   "outputs": [],
   "source": [
    "# define function to execute queries on the created database and return a pd.DataFrame\n",
    "def sql_insert(row_data: list, \n",
    "            db_name: str = \"verbatim.db\"):\n",
    "      \n",
    "    # connect to SQL db\n",
    "    con = sqlite3.connect(db_name, timeout=10)\n",
    "    cursor = con.cursor()\n",
    "    \n",
    "    # compile insert query\n",
    "    insert_query = \"INSERT INTO logging (filename, process_step, time_stamp) VALUES (?, ?, ?)\"\n",
    "\n",
    "    # convert data to tuple\n",
    "    data_tuple = tuple(row_data)\n",
    "\n",
    "    # execute the insert query\n",
    "    cursor.execute(insert_query, data_tuple)\n",
    "    con.commit()\n",
    "    \n",
    "    # close connection\n",
    "    con.close()"
   ]
  },
  {
   "cell_type": "markdown",
   "id": "4c8f0612-92cd-4dfa-9e0f-162b1576f725",
   "metadata": {},
   "source": [
    "### create db"
   ]
  },
  {
   "cell_type": "code",
   "execution_count": 9,
   "id": "f8795aaf-cbf5-4978-8ced-9f74d4922ae4",
   "metadata": {},
   "outputs": [],
   "source": [
    "# initialise data\n",
    "data = {\"filename\": [\"START__\"], \"process_step\": [\"START__\"], \"time_stamp\": '2025-01-01 00:00:00'}\n",
    "df = pd.DataFrame.from_dict(data)\n",
    "\n",
    "# create the database\n",
    "df_to_db(input_df=df, table_name=\"logging\")"
   ]
  },
  {
   "cell_type": "code",
   "execution_count": 39,
   "id": "8da3cca3-30ee-49b0-8082-6ce6d0ca607d",
   "metadata": {},
   "outputs": [
    {
     "data": {
      "text/html": [
       "<div>\n",
       "<style scoped>\n",
       "    .dataframe tbody tr th:only-of-type {\n",
       "        vertical-align: middle;\n",
       "    }\n",
       "\n",
       "    .dataframe tbody tr th {\n",
       "        vertical-align: top;\n",
       "    }\n",
       "\n",
       "    .dataframe thead th {\n",
       "        text-align: right;\n",
       "    }\n",
       "</style>\n",
       "<table border=\"1\" class=\"dataframe\">\n",
       "  <thead>\n",
       "    <tr style=\"text-align: right;\">\n",
       "      <th></th>\n",
       "      <th>filename</th>\n",
       "      <th>process_step</th>\n",
       "      <th>time_stamp</th>\n",
       "    </tr>\n",
       "  </thead>\n",
       "  <tbody>\n",
       "    <tr>\n",
       "      <th>0</th>\n",
       "      <td>START__</td>\n",
       "      <td>START__</td>\n",
       "      <td>2025-01-01 00:00:00</td>\n",
       "    </tr>\n",
       "    <tr>\n",
       "      <th>1</th>\n",
       "      <td>pdf.pdf</td>\n",
       "      <td>to_image</td>\n",
       "      <td>2025-01-01 12:45:00</td>\n",
       "    </tr>\n",
       "    <tr>\n",
       "      <th>2</th>\n",
       "      <td>ChatGPT_is_bullshit.pdf</td>\n",
       "      <td>to_image</td>\n",
       "      <td>2025-01-19 21:35:45.582589</td>\n",
       "    </tr>\n",
       "    <tr>\n",
       "      <th>3</th>\n",
       "      <td>jit.2015.5.pdf</td>\n",
       "      <td>to_image</td>\n",
       "      <td>2025-01-19 21:35:52.828959</td>\n",
       "    </tr>\n",
       "    <tr>\n",
       "      <th>4</th>\n",
       "      <td>s41586-022-05543-x.pdf</td>\n",
       "      <td>to_image</td>\n",
       "      <td>2025-01-19 21:36:08.368009</td>\n",
       "    </tr>\n",
       "    <tr>\n",
       "      <th>5</th>\n",
       "      <td>SciAm-1949-Weaver.pdf</td>\n",
       "      <td>to_image</td>\n",
       "      <td>2025-01-19 21:36:11.666507</td>\n",
       "    </tr>\n",
       "    <tr>\n",
       "      <th>6</th>\n",
       "      <td>TortoiseandSoftware-MooresLawetcJUS8-14.pdf</td>\n",
       "      <td>to_image</td>\n",
       "      <td>2025-01-19 21:36:25.758932</td>\n",
       "    </tr>\n",
       "  </tbody>\n",
       "</table>\n",
       "</div>"
      ],
      "text/plain": [
       "                                      filename process_step  \\\n",
       "0                                      START__      START__   \n",
       "1                                      pdf.pdf     to_image   \n",
       "2                      ChatGPT_is_bullshit.pdf     to_image   \n",
       "3                               jit.2015.5.pdf     to_image   \n",
       "4                       s41586-022-05543-x.pdf     to_image   \n",
       "5                        SciAm-1949-Weaver.pdf     to_image   \n",
       "6  TortoiseandSoftware-MooresLawetcJUS8-14.pdf     to_image   \n",
       "\n",
       "                   time_stamp  \n",
       "0         2025-01-01 00:00:00  \n",
       "1         2025-01-01 12:45:00  \n",
       "2  2025-01-19 21:35:45.582589  \n",
       "3  2025-01-19 21:35:52.828959  \n",
       "4  2025-01-19 21:36:08.368009  \n",
       "5  2025-01-19 21:36:11.666507  \n",
       "6  2025-01-19 21:36:25.758932  "
      ]
     },
     "execution_count": 39,
     "metadata": {},
     "output_type": "execute_result"
    }
   ],
   "source": [
    "sql_string = \"\"\"\n",
    "SELECT * FROM logging\n",
    "\"\"\"\n",
    "\n",
    "sql_query(sql_string)"
   ]
  },
  {
   "cell_type": "code",
   "execution_count": 38,
   "id": "0ebb19ed-c609-48d3-bf3e-5b7f01178fe0",
   "metadata": {},
   "outputs": [],
   "source": [
    "# delete record from the table \n",
    "sql_string = \"\"\"\n",
    "DELETE FROM logging WHERE filename = 'ChatGPT_is_bullshit.pdf' \n",
    "\"\"\"\n",
    "\n",
    "sql_query(sql_string)"
   ]
  },
  {
   "cell_type": "code",
   "execution_count": 20,
   "id": "9d4dc339-7d9f-4527-870e-73f445cc615f",
   "metadata": {},
   "outputs": [],
   "source": [
    "a_row = [\"pdf.pdf\", \"to_image\", \"2025-01-01 12:45:00\"] "
   ]
  },
  {
   "cell_type": "code",
   "execution_count": 26,
   "id": "7df0fb22-f18c-4c01-9522-1e9b00733b3c",
   "metadata": {},
   "outputs": [],
   "source": [
    "sql_insert(a_row)"
   ]
  },
  {
   "cell_type": "code",
   "execution_count": null,
   "id": "21b02276-e27b-4cf7-a12b-5c76e4d94767",
   "metadata": {},
   "outputs": [],
   "source": [
    "\"INSERT INTO logging(filename, process_step, time_stamp) VALUES(, 'to_image', @now)\""
   ]
  }
 ],
 "metadata": {
  "kernelspec": {
   "display_name": "Python 3 (ipykernel)",
   "language": "python",
   "name": "python3"
  },
  "language_info": {
   "codemirror_mode": {
    "name": "ipython",
    "version": 3
   },
   "file_extension": ".py",
   "mimetype": "text/x-python",
   "name": "python",
   "nbconvert_exporter": "python",
   "pygments_lexer": "ipython3",
   "version": "3.11.9"
  }
 },
 "nbformat": 4,
 "nbformat_minor": 5
}
